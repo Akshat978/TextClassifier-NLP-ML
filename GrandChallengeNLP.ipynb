{
  "nbformat": 4,
  "nbformat_minor": 0,
  "metadata": {
    "accelerator": "GPU",
    "colab": {
      "name": "GrandChallengeNLP",
      "provenance": [],
      "collapsed_sections": []
    },
    "kernelspec": {
      "display_name": "Python 3",
      "name": "python3"
    }
  },
  "cells": [
    {
      "cell_type": "markdown",
      "metadata": {
        "id": "view-in-github"
      },
      "source": [
        "<a href=\"https://colab.research.google.com/github/lmoroney/dlaicourse/blob/master/TensorFlow%20In%20Practice/Course%203%20-%20NLP/Course%203%20-%20Week%202%20-%20Lesson%202.ipynb\" target=\"_parent\"><img src=\"https://colab.research.google.com/assets/colab-badge.svg\" alt=\"Open In Colab\"/></a>"
      ]
    },
    {
      "cell_type": "code",
      "metadata": {
        "id": "4gs9htvM7n_x"
      },
      "source": [
        "# Run this to ensure TensorFlow 2.x is used\n",
        "try:\n",
        "  # %tensorflow_version only exists in Colab.\n",
        "  %tensorflow_version 2.x\n",
        "except Exception:\n",
        "  pass"
      ],
      "execution_count": null,
      "outputs": []
    },
    {
      "cell_type": "code",
      "metadata": {
        "id": "XYYDvoskkE61"
      },
      "source": [
        "import json\n",
        "import tensorflow as tf\n",
        "import pandas as pd\n",
        " \n",
        "from tensorflow.keras.preprocessing.text import Tokenizer\n",
        "from tensorflow.keras.preprocessing.sequence import pad_sequences"
      ],
      "execution_count": null,
      "outputs": []
    },
    {
      "cell_type": "code",
      "metadata": {
        "colab": {
          "base_uri": "https://localhost:8080/"
        },
        "id": "QhsmRvPkFw5b",
        "outputId": "19352dc7-5916-41c5-fe15-85f6dc1e0878"
      },
      "source": [
        "train_data = pd.read_csv('train_data.csv')\n",
        "train_data = list(train_data['Post'])\n",
        "train_labels = pd.read_csv('train_data.csv')\n",
        "train_labels = list(train_labels['Labels Set'])\n",
        " \n",
        " \n",
        "valid_data = pd.read_csv('validation_data.csv')\n",
        "valid_labels = valid_data['Labels Set']\n",
        "valid_data = valid_data['Post']\n",
        " \n",
        "print(train_labels)"
      ],
      "execution_count": null,
      "outputs": [
        {
          "output_type": "stream",
          "text": [
            "['hate,offensive', 'non-hostile', 'non-hostile', 'defamation,offensive', 'non-hostile', 'fake', 'non-hostile', 'non-hostile', 'non-hostile', 'non-hostile', 'hate', 'offensive', 'non-hostile', 'non-hostile', 'offensive', 'fake', 'non-hostile', 'non-hostile', 'non-hostile', 'non-hostile', 'fake', 'fake,hate', 'offensive', 'non-hostile', 'non-hostile', 'hate,offensive', 'fake', 'hate', 'defamation', 'non-hostile', 'fake', 'non-hostile', 'non-hostile', 'non-hostile', 'hate', 'defamation', 'hate', 'non-hostile', 'offensive', 'non-hostile', 'non-hostile', 'non-hostile', 'non-hostile', 'defamation,hate', 'defamation', 'non-hostile', 'non-hostile', 'non-hostile', 'fake', 'non-hostile', 'non-hostile', 'fake', 'non-hostile', 'defamation,offensive', 'non-hostile', 'non-hostile', 'non-hostile', 'defamation', 'offensive', 'offensive', 'offensive', 'non-hostile', 'non-hostile', 'non-hostile', 'fake', 'non-hostile', 'fake', 'defamation', 'non-hostile', 'non-hostile', 'fake', 'fake', 'fake', 'hate', 'non-hostile', 'defamation', 'hate', 'non-hostile', 'defamation,hate,offensive', 'defamation', 'hate', 'non-hostile', 'hate', 'non-hostile', 'fake', 'non-hostile', 'non-hostile', 'hate,offensive', 'hate', 'non-hostile', 'non-hostile', 'non-hostile', 'non-hostile', 'defamation', 'non-hostile', 'fake', 'offensive', 'defamation,hate,offensive', 'non-hostile', 'non-hostile', 'non-hostile', 'offensive', 'non-hostile', 'fake', 'fake', 'non-hostile', 'fake', 'offensive', 'offensive', 'non-hostile', 'non-hostile', 'non-hostile', 'fake', 'non-hostile', 'fake', 'non-hostile', 'non-hostile', 'non-hostile', 'non-hostile', 'fake', 'non-hostile', 'non-hostile', 'non-hostile', 'non-hostile', 'fake', 'non-hostile', 'fake', 'non-hostile', 'non-hostile', 'fake', 'non-hostile', 'non-hostile', 'defamation,offensive', 'non-hostile', 'non-hostile', 'non-hostile', 'defamation,fake,offensive', 'non-hostile', 'fake', 'non-hostile', 'non-hostile', 'offensive', 'hate', 'fake', 'non-hostile', 'fake', 'non-hostile', 'non-hostile', 'fake', 'hate', 'non-hostile', 'non-hostile', 'hate', 'offensive', 'non-hostile', 'non-hostile', 'fake', 'defamation', 'non-hostile', 'hate', 'non-hostile', 'hate,offensive', 'hate', 'non-hostile', 'non-hostile', 'hate,offensive', 'fake', 'non-hostile', 'fake', 'hate', 'offensive', 'offensive', 'hate', 'non-hostile', 'non-hostile', 'defamation,offensive', 'fake', 'non-hostile', 'non-hostile', 'hate', 'fake', 'offensive', 'non-hostile', 'fake,offensive', 'hate', 'non-hostile', 'fake', 'non-hostile', 'non-hostile', 'fake', 'offensive', 'hate', 'non-hostile', 'non-hostile', 'non-hostile', 'offensive', 'non-hostile', 'defamation,offensive', 'non-hostile', 'non-hostile', 'non-hostile', 'hate', 'defamation', 'fake', 'non-hostile', 'offensive', 'fake', 'non-hostile', 'non-hostile', 'non-hostile', 'non-hostile', 'non-hostile', 'non-hostile', 'non-hostile', 'hate,offensive', 'non-hostile', 'hate', 'non-hostile', 'non-hostile', 'non-hostile', 'hate', 'fake', 'non-hostile', 'non-hostile', 'non-hostile', 'non-hostile', 'fake', 'fake', 'non-hostile', 'non-hostile', 'non-hostile', 'non-hostile', 'non-hostile', 'fake', 'non-hostile', 'non-hostile', 'non-hostile', 'hate', 'non-hostile', 'non-hostile', 'non-hostile', 'defamation,offensive', 'hate', 'non-hostile', 'hate', 'fake', 'non-hostile', 'non-hostile', 'non-hostile', 'non-hostile', 'non-hostile', 'non-hostile', 'non-hostile', 'non-hostile', 'fake', 'non-hostile', 'non-hostile', 'non-hostile', 'non-hostile', 'non-hostile', 'non-hostile', 'non-hostile', 'defamation,fake', 'fake', 'non-hostile', 'non-hostile', 'non-hostile', 'non-hostile', 'non-hostile', 'hate,offensive', 'non-hostile', 'non-hostile', 'hate', 'defamation,hate', 'non-hostile', 'fake', 'non-hostile', 'hate', 'hate,offensive', 'non-hostile', 'fake', 'non-hostile', 'hate', 'non-hostile', 'non-hostile', 'non-hostile', 'offensive', 'fake', 'hate', 'non-hostile', 'fake', 'non-hostile', 'non-hostile', 'non-hostile', 'non-hostile', 'hate', 'non-hostile', 'fake', 'non-hostile', 'non-hostile', 'non-hostile', 'fake', 'fake', 'non-hostile', 'non-hostile', 'fake', 'defamation,hate', 'non-hostile', 'non-hostile', 'non-hostile', 'hate,offensive', 'non-hostile', 'fake', 'defamation,hate,offensive', 'non-hostile', 'non-hostile', 'non-hostile', 'non-hostile', 'non-hostile', 'defamation', 'fake', 'non-hostile', 'non-hostile', 'defamation,offensive', 'non-hostile', 'fake', 'non-hostile', 'hate', 'hate', 'non-hostile', 'fake', 'non-hostile', 'hate', 'offensive', 'defamation', 'offensive', 'non-hostile', 'fake', 'hate', 'fake', 'non-hostile', 'non-hostile', 'non-hostile', 'defamation', 'non-hostile', 'non-hostile', 'non-hostile', 'non-hostile', 'hate', 'defamation', 'non-hostile', 'non-hostile', 'hate', 'non-hostile', 'offensive', 'defamation', 'fake', 'defamation,hate,offensive', 'non-hostile', 'offensive', 'offensive', 'defamation', 'hate', 'non-hostile', 'offensive', 'fake', 'non-hostile', 'non-hostile', 'fake', 'fake', 'non-hostile', 'fake', 'non-hostile', 'non-hostile', 'non-hostile', 'non-hostile', 'defamation,hate,offensive', 'defamation,fake,offensive', 'non-hostile', 'non-hostile', 'non-hostile', 'defamation,hate', 'hate', 'non-hostile', 'hate,offensive', 'non-hostile', 'fake', 'fake', 'hate', 'non-hostile', 'fake', 'non-hostile', 'non-hostile', 'non-hostile', 'non-hostile', 'non-hostile', 'non-hostile', 'non-hostile', 'offensive', 'non-hostile', 'non-hostile', 'non-hostile', 'non-hostile', 'offensive', 'non-hostile', 'defamation,hate', 'non-hostile', 'non-hostile', 'fake', 'non-hostile', 'non-hostile', 'fake', 'non-hostile', 'defamation,fake', 'hate', 'hate', 'hate', 'non-hostile', 'non-hostile', 'fake', 'non-hostile', 'hate', 'hate', 'non-hostile', 'hate', 'fake', 'fake', 'non-hostile', 'fake', 'defamation', 'non-hostile', 'non-hostile', 'non-hostile', 'non-hostile', 'non-hostile', 'non-hostile', 'fake', 'non-hostile', 'offensive', 'non-hostile', 'non-hostile', 'non-hostile', 'non-hostile', 'non-hostile', 'defamation', 'hate', 'hate,offensive', 'defamation', 'non-hostile', 'non-hostile', 'hate', 'offensive', 'non-hostile', 'defamation', 'non-hostile', 'non-hostile', 'fake', 'defamation', 'hate,offensive', 'non-hostile', 'non-hostile', 'non-hostile', 'offensive', 'fake', 'non-hostile', 'non-hostile', 'non-hostile', 'non-hostile', 'fake', 'fake', 'defamation', 'non-hostile', 'fake', 'non-hostile', 'non-hostile', 'non-hostile', 'non-hostile', 'non-hostile', 'non-hostile', 'non-hostile', 'non-hostile', 'non-hostile', 'hate,offensive', 'fake', 'non-hostile', 'non-hostile', 'non-hostile', 'non-hostile', 'defamation', 'hate', 'non-hostile', 'non-hostile', 'non-hostile', 'offensive', 'defamation', 'non-hostile', 'hate', 'non-hostile', 'non-hostile', 'non-hostile', 'non-hostile', 'defamation,offensive', 'non-hostile', 'defamation', 'non-hostile', 'non-hostile', 'non-hostile', 'hate', 'non-hostile', 'non-hostile', 'non-hostile', 'non-hostile', 'hate,offensive', 'defamation,offensive', 'hate', 'non-hostile', 'hate', 'non-hostile', 'offensive', 'fake', 'non-hostile', 'non-hostile', 'non-hostile', 'non-hostile', 'fake', 'non-hostile', 'non-hostile', 'non-hostile', 'fake', 'non-hostile', 'non-hostile', 'non-hostile', 'offensive', 'fake', 'offensive', 'defamation,offensive', 'non-hostile', 'fake', 'hate', 'non-hostile', 'non-hostile', 'non-hostile', 'defamation', 'hate', 'non-hostile', 'fake', 'non-hostile', 'fake', 'hate', 'fake', 'non-hostile', 'non-hostile', 'hate', 'non-hostile', 'fake', 'offensive', 'hate', 'non-hostile', 'fake', 'non-hostile', 'hate,offensive', 'non-hostile', 'defamation', 'non-hostile', 'non-hostile', 'non-hostile', 'fake', 'fake', 'non-hostile', 'fake', 'non-hostile', 'offensive', 'fake', 'non-hostile', 'offensive', 'non-hostile', 'fake', 'fake', 'non-hostile', 'non-hostile', 'non-hostile', 'fake', 'non-hostile', 'defamation', 'non-hostile', 'fake', 'non-hostile', 'non-hostile', 'non-hostile', 'hate', 'fake', 'fake', 'non-hostile', 'non-hostile', 'offensive', 'non-hostile', 'offensive', 'offensive', 'non-hostile', 'offensive', 'non-hostile', 'non-hostile', 'non-hostile', 'non-hostile', 'fake', 'fake', 'fake', 'non-hostile', 'defamation,fake,hate', 'non-hostile', 'non-hostile', 'fake', 'fake', 'hate', 'non-hostile', 'fake', 'hate,offensive', 'non-hostile', 'non-hostile', 'non-hostile', 'non-hostile', 'non-hostile', 'non-hostile', 'non-hostile', 'non-hostile', 'non-hostile', 'non-hostile', 'hate', 'fake', 'hate,offensive', 'non-hostile', 'fake', 'hate', 'fake', 'non-hostile', 'offensive', 'non-hostile', 'fake', 'fake', 'defamation,hate', 'non-hostile', 'fake', 'defamation', 'fake', 'non-hostile', 'fake', 'hate,offensive', 'non-hostile', 'non-hostile', 'non-hostile', 'non-hostile', 'fake', 'offensive', 'fake', 'non-hostile', 'defamation', 'non-hostile', 'non-hostile', 'hate,offensive', 'non-hostile', 'non-hostile', 'fake', 'offensive', 'non-hostile', 'defamation,fake', 'non-hostile', 'non-hostile', 'offensive', 'hate', 'fake', 'defamation', 'fake', 'fake', 'non-hostile', 'non-hostile', 'non-hostile', 'fake', 'non-hostile', 'fake,hate', 'fake', 'hate', 'fake', 'defamation,offensive', 'non-hostile', 'fake', 'non-hostile', 'fake', 'non-hostile', 'hate,offensive', 'hate', 'non-hostile', 'fake', 'hate', 'non-hostile', 'non-hostile', 'non-hostile', 'non-hostile', 'fake', 'fake', 'non-hostile', 'fake', 'defamation,hate', 'non-hostile', 'non-hostile', 'non-hostile', 'non-hostile', 'non-hostile', 'fake', 'non-hostile', 'offensive', 'hate', 'offensive', 'non-hostile', 'non-hostile', 'offensive', 'non-hostile', 'non-hostile', 'non-hostile', 'hate', 'non-hostile', 'defamation', 'fake', 'defamation,hate', 'non-hostile', 'non-hostile', 'non-hostile', 'fake', 'non-hostile', 'defamation,hate', 'fake', 'fake', 'non-hostile', 'non-hostile', 'defamation,offensive', 'fake,offensive', 'hate', 'non-hostile', 'non-hostile', 'non-hostile', 'hate', 'non-hostile', 'offensive', 'fake', 'fake', 'defamation', 'fake', 'defamation,fake,hate', 'fake', 'offensive', 'fake', 'non-hostile', 'offensive', 'non-hostile', 'fake', 'non-hostile', 'non-hostile', 'hate', 'non-hostile', 'non-hostile', 'hate', 'non-hostile', 'non-hostile', 'defamation,offensive', 'non-hostile', 'non-hostile', 'non-hostile', 'defamation,offensive', 'non-hostile', 'non-hostile', 'non-hostile', 'non-hostile', 'defamation', 'fake', 'defamation', 'non-hostile', 'non-hostile', 'non-hostile', 'non-hostile', 'non-hostile', 'non-hostile', 'non-hostile', 'offensive', 'non-hostile', 'non-hostile', 'offensive', 'non-hostile', 'hate', 'offensive', 'offensive', 'non-hostile', 'defamation,offensive', 'fake', 'fake,hate', 'offensive', 'non-hostile', 'non-hostile', 'non-hostile', 'defamation', 'hate,offensive', 'non-hostile', 'non-hostile', 'defamation,fake', 'defamation', 'hate', 'fake', 'non-hostile', 'fake', 'fake', 'fake', 'non-hostile', 'fake', 'non-hostile', 'defamation', 'offensive', 'fake', 'fake', 'non-hostile', 'fake', 'defamation', 'non-hostile', 'hate', 'offensive', 'offensive', 'hate', 'non-hostile', 'non-hostile', 'hate,offensive', 'non-hostile', 'non-hostile', 'hate', 'hate', 'non-hostile', 'non-hostile', 'fake', 'non-hostile', 'non-hostile', 'hate', 'non-hostile', 'non-hostile', 'non-hostile', 'non-hostile', 'non-hostile', 'defamation', 'fake', 'defamation,hate,offensive', 'non-hostile', 'non-hostile', 'offensive', 'non-hostile', 'defamation,offensive', 'non-hostile', 'offensive', 'non-hostile', 'non-hostile', 'non-hostile', 'non-hostile', 'fake', 'fake', 'non-hostile', 'offensive', 'hate', 'non-hostile', 'non-hostile', 'non-hostile', 'non-hostile', 'fake', 'non-hostile', 'non-hostile', 'non-hostile', 'hate', 'hate', 'defamation', 'defamation', 'hate,offensive', 'hate', 'non-hostile', 'non-hostile', 'non-hostile', 'non-hostile', 'non-hostile', 'defamation', 'fake', 'non-hostile', 'non-hostile', 'non-hostile', 'fake', 'non-hostile', 'hate', 'fake', 'non-hostile', 'non-hostile', 'defamation,hate,offensive', 'non-hostile', 'non-hostile', 'offensive', 'hate', 'non-hostile', 'fake', 'fake', 'non-hostile', 'non-hostile', 'non-hostile', 'hate,offensive', 'hate', 'non-hostile', 'non-hostile', 'fake', 'non-hostile', 'hate', 'offensive', 'non-hostile', 'non-hostile', 'defamation,offensive', 'fake', 'non-hostile', 'non-hostile', 'non-hostile', 'non-hostile', 'non-hostile', 'non-hostile', 'non-hostile', 'non-hostile', 'non-hostile', 'non-hostile', 'non-hostile', 'fake', 'fake,offensive', 'defamation,fake,offensive', 'fake', 'non-hostile', 'non-hostile', 'offensive', 'hate', 'non-hostile', 'non-hostile', 'non-hostile', 'fake', 'defamation,fake', 'non-hostile', 'non-hostile', 'non-hostile', 'non-hostile', 'non-hostile', 'non-hostile', 'non-hostile', 'non-hostile', 'defamation', 'fake', 'non-hostile', 'non-hostile', 'non-hostile', 'non-hostile', 'non-hostile', 'non-hostile', 'non-hostile', 'non-hostile', 'non-hostile', 'fake', 'non-hostile', 'offensive', 'non-hostile', 'fake', 'hate', 'defamation,fake', 'fake', 'non-hostile', 'non-hostile', 'fake', 'defamation', 'fake', 'hate', 'fake', 'fake', 'hate', 'non-hostile', 'non-hostile', 'non-hostile', 'non-hostile', 'defamation,hate', 'fake', 'non-hostile', 'hate', 'offensive', 'non-hostile', 'fake', 'non-hostile', 'non-hostile', 'fake', 'non-hostile', 'non-hostile', 'non-hostile', 'non-hostile', 'non-hostile', 'offensive', 'offensive', 'defamation,offensive', 'defamation', 'non-hostile', 'defamation,hate', 'non-hostile', 'non-hostile', 'fake', 'defamation', 'non-hostile', 'non-hostile', 'fake', 'non-hostile', 'defamation,fake,offensive', 'offensive', 'offensive', 'non-hostile', 'non-hostile', 'fake', 'hate', 'fake', 'fake', 'hate,offensive', 'fake', 'non-hostile', 'non-hostile', 'hate', 'non-hostile', 'non-hostile', 'fake', 'non-hostile', 'fake', 'non-hostile', 'non-hostile', 'non-hostile', 'non-hostile', 'non-hostile', 'defamation', 'non-hostile', 'defamation,hate', 'fake', 'non-hostile', 'non-hostile', 'fake', 'non-hostile', 'hate', 'non-hostile', 'non-hostile', 'non-hostile', 'non-hostile', 'non-hostile', 'non-hostile', 'hate,offensive', 'fake', 'non-hostile', 'non-hostile', 'hate', 'non-hostile', 'non-hostile', 'non-hostile', 'non-hostile', 'fake', 'hate', 'non-hostile', 'non-hostile', 'non-hostile', 'offensive', 'offensive', 'non-hostile', 'non-hostile', 'non-hostile', 'non-hostile', 'fake', 'non-hostile', 'non-hostile', 'fake', 'defamation,fake', 'non-hostile', 'offensive', 'fake', 'non-hostile', 'non-hostile', 'fake', 'defamation', 'non-hostile', 'non-hostile', 'non-hostile', 'non-hostile', 'non-hostile', 'hate,offensive', 'non-hostile', 'offensive', 'non-hostile', 'non-hostile', 'fake', 'non-hostile', 'fake', 'non-hostile', 'non-hostile', 'hate', 'non-hostile', 'fake', 'non-hostile', 'defamation,offensive', 'defamation,fake', 'non-hostile', 'non-hostile', 'hate,offensive', 'fake', 'non-hostile', 'hate', 'fake', 'fake', 'non-hostile', 'offensive', 'non-hostile', 'non-hostile', 'non-hostile', 'non-hostile', 'hate', 'hate', 'non-hostile', 'fake', 'non-hostile', 'offensive', 'non-hostile', 'non-hostile', 'hate', 'fake', 'non-hostile', 'non-hostile', 'non-hostile', 'fake', 'hate', 'fake', 'fake', 'defamation', 'non-hostile', 'non-hostile', 'non-hostile', 'fake', 'hate', 'non-hostile', 'non-hostile', 'fake', 'non-hostile', 'non-hostile', 'non-hostile', 'non-hostile', 'non-hostile', 'offensive', 'fake', 'non-hostile', 'defamation,fake,hate', 'non-hostile', 'non-hostile', 'non-hostile', 'non-hostile', 'non-hostile', 'fake,hate,offensive', 'non-hostile', 'non-hostile', 'non-hostile', 'non-hostile', 'non-hostile', 'offensive', 'fake', 'non-hostile', 'defamation,hate', 'non-hostile', 'defamation', 'non-hostile', 'non-hostile', 'defamation', 'non-hostile', 'defamation,fake,hate', 'non-hostile', 'non-hostile', 'non-hostile', 'non-hostile', 'non-hostile', 'hate', 'non-hostile', 'non-hostile', 'fake', 'fake', 'defamation,offensive', 'non-hostile', 'non-hostile', 'non-hostile', 'hate', 'defamation,offensive', 'non-hostile', 'non-hostile', 'non-hostile', 'defamation', 'hate', 'non-hostile', 'hate', 'offensive', 'non-hostile', 'non-hostile', 'non-hostile', 'fake', 'hate', 'non-hostile', 'offensive', 'offensive', 'non-hostile', 'non-hostile', 'fake', 'defamation', 'non-hostile', 'hate', 'offensive', 'non-hostile', 'non-hostile', 'offensive', 'offensive', 'defamation', 'non-hostile', 'non-hostile', 'non-hostile', 'non-hostile', 'fake', 'hate', 'non-hostile', 'defamation', 'hate', 'fake', 'hate', 'offensive', 'fake,offensive', 'non-hostile', 'non-hostile', 'defamation,offensive', 'non-hostile', 'defamation,offensive', 'fake,offensive', 'non-hostile', 'non-hostile', 'non-hostile', 'offensive', 'non-hostile', 'non-hostile', 'non-hostile', 'fake', 'hate', 'non-hostile', 'non-hostile', 'non-hostile', 'offensive', 'offensive', 'non-hostile', 'offensive', 'non-hostile', 'hate', 'non-hostile', 'hate', 'hate,offensive', 'fake', 'defamation,hate', 'non-hostile', 'fake', 'fake', 'non-hostile', 'non-hostile', 'hate', 'non-hostile', 'non-hostile', 'non-hostile', 'fake', 'fake', 'fake', 'non-hostile', 'non-hostile', 'non-hostile', 'non-hostile', 'non-hostile', 'non-hostile', 'fake', 'fake', 'non-hostile', 'non-hostile', 'non-hostile', 'non-hostile', 'defamation', 'non-hostile', 'fake', 'fake', 'fake', 'fake', 'non-hostile', 'defamation,hate', 'non-hostile', 'non-hostile', 'non-hostile', 'non-hostile', 'non-hostile', 'non-hostile', 'non-hostile', 'non-hostile', 'non-hostile', 'non-hostile', 'non-hostile', 'non-hostile', 'non-hostile', 'non-hostile', 'non-hostile', 'non-hostile', 'non-hostile', 'fake', 'fake', 'non-hostile', 'non-hostile', 'defamation,hate', 'non-hostile', 'fake', 'offensive', 'non-hostile', 'fake', 'fake', 'fake', 'non-hostile', 'fake', 'non-hostile', 'non-hostile', 'fake', 'fake', 'fake,hate', 'non-hostile', 'hate,offensive', 'offensive', 'fake,offensive', 'non-hostile', 'fake', 'non-hostile', 'non-hostile', 'hate,offensive', 'defamation,fake', 'non-hostile', 'fake', 'non-hostile', 'hate', 'fake', 'non-hostile', 'non-hostile', 'non-hostile', 'hate,offensive', 'non-hostile', 'fake', 'fake', 'fake', 'non-hostile', 'non-hostile', 'non-hostile', 'defamation', 'non-hostile', 'defamation,fake,offensive', 'defamation,offensive', 'offensive', 'non-hostile', 'non-hostile', 'hate,offensive', 'fake', 'non-hostile', 'fake', 'fake', 'non-hostile', 'defamation', 'non-hostile', 'offensive', 'fake', 'non-hostile', 'non-hostile', 'non-hostile', 'non-hostile', 'non-hostile', 'hate,offensive', 'offensive', 'non-hostile', 'non-hostile', 'offensive', 'non-hostile', 'non-hostile', 'non-hostile', 'fake', 'non-hostile', 'hate', 'non-hostile', 'fake', 'non-hostile', 'non-hostile', 'hate,offensive', 'fake', 'offensive', 'fake', 'non-hostile', 'fake', 'non-hostile', 'non-hostile', 'hate', 'non-hostile', 'non-hostile', 'non-hostile', 'non-hostile', 'non-hostile', 'non-hostile', 'non-hostile', 'non-hostile', 'non-hostile', 'non-hostile', 'fake', 'non-hostile', 'fake', 'non-hostile', 'fake', 'fake', 'non-hostile', 'non-hostile', 'non-hostile', 'non-hostile', 'hate', 'non-hostile', 'non-hostile', 'hate', 'non-hostile', 'non-hostile', 'fake', 'fake', 'offensive', 'fake', 'offensive', 'non-hostile', 'hate', 'non-hostile', 'hate,offensive', 'non-hostile', 'hate', 'non-hostile', 'defamation', 'offensive', 'defamation,hate,offensive', 'fake', 'fake', 'offensive', 'non-hostile', 'non-hostile', 'defamation,offensive', 'non-hostile', 'fake', 'non-hostile', 'non-hostile', 'fake', 'offensive', 'non-hostile', 'non-hostile', 'non-hostile', 'offensive', 'non-hostile', 'defamation', 'non-hostile', 'defamation', 'non-hostile', 'non-hostile', 'non-hostile', 'non-hostile', 'fake', 'non-hostile', 'non-hostile', 'offensive', 'hate', 'non-hostile', 'non-hostile', 'non-hostile', 'non-hostile', 'non-hostile', 'non-hostile', 'non-hostile', 'non-hostile', 'non-hostile', 'non-hostile', 'non-hostile', 'non-hostile', 'defamation', 'non-hostile', 'non-hostile', 'offensive', 'non-hostile', 'non-hostile', 'hate,offensive', 'non-hostile', 'defamation', 'non-hostile', 'fake', 'fake', 'non-hostile', 'non-hostile', 'non-hostile', 'hate', 'offensive', 'fake', 'fake,hate', 'defamation,fake,hate,offensive', 'offensive', 'offensive', 'offensive', 'non-hostile', 'offensive', 'fake', 'hate', 'non-hostile', 'hate', 'fake', 'non-hostile', 'non-hostile', 'hate,offensive', 'hate', 'fake', 'offensive', 'non-hostile', 'non-hostile', 'fake', 'fake', 'fake', 'non-hostile', 'non-hostile', 'fake', 'fake', 'hate', 'non-hostile', 'fake', 'fake', 'non-hostile', 'hate,offensive', 'non-hostile', 'non-hostile', 'hate,offensive', 'non-hostile', 'non-hostile', 'fake', 'fake', 'offensive', 'hate', 'fake', 'non-hostile', 'non-hostile', 'non-hostile', 'offensive', 'fake', 'defamation', 'non-hostile', 'defamation', 'hate', 'non-hostile', 'fake', 'non-hostile', 'non-hostile', 'non-hostile', 'non-hostile', 'fake', 'defamation', 'non-hostile', 'hate', 'non-hostile', 'non-hostile', 'defamation', 'non-hostile', 'non-hostile', 'defamation,offensive', 'hate', 'defamation,hate', 'defamation,hate', 'non-hostile', 'defamation', 'defamation', 'offensive', 'hate', 'non-hostile', 'offensive', 'non-hostile', 'non-hostile', 'non-hostile', 'fake', 'non-hostile', 'fake', 'defamation,offensive', 'non-hostile', 'fake,hate,offensive', 'non-hostile', 'non-hostile', 'hate', 'fake', 'non-hostile', 'non-hostile', 'defamation', 'hate', 'fake', 'fake', 'defamation', 'non-hostile', 'non-hostile', 'non-hostile', 'non-hostile', 'fake,offensive', 'offensive', 'defamation', 'fake', 'non-hostile', 'hate', 'defamation', 'offensive', 'non-hostile', 'non-hostile', 'non-hostile', 'defamation,hate', 'non-hostile', 'non-hostile', 'non-hostile', 'defamation,fake', 'offensive', 'defamation,hate', 'non-hostile', 'non-hostile', 'hate', 'non-hostile', 'non-hostile', 'hate', 'hate,offensive', 'hate', 'fake', 'fake', 'non-hostile', 'offensive', 'non-hostile', 'hate', 'fake', 'non-hostile', 'fake', 'fake', 'non-hostile', 'fake', 'defamation', 'non-hostile', 'hate', 'non-hostile', 'fake', 'fake', 'hate', 'hate', 'non-hostile', 'non-hostile', 'offensive', 'non-hostile', 'non-hostile', 'non-hostile', 'non-hostile', 'non-hostile', 'non-hostile', 'non-hostile', 'non-hostile', 'hate,offensive', 'offensive', 'defamation', 'non-hostile', 'non-hostile', 'fake', 'non-hostile', 'offensive', 'non-hostile', 'non-hostile', 'non-hostile', 'non-hostile', 'hate', 'offensive', 'non-hostile', 'non-hostile', 'fake', 'non-hostile', 'non-hostile', 'fake', 'non-hostile', 'non-hostile', 'defamation', 'defamation,hate', 'fake', 'non-hostile', 'non-hostile', 'fake', 'offensive', 'non-hostile', 'non-hostile', 'defamation,hate,offensive', 'non-hostile', 'non-hostile', 'hate', 'non-hostile', 'defamation', 'fake', 'non-hostile', 'non-hostile', 'non-hostile', 'fake', 'non-hostile', 'non-hostile', 'fake', 'fake', 'offensive', 'non-hostile', 'defamation,hate,offensive', 'non-hostile', 'non-hostile', 'non-hostile', 'defamation', 'non-hostile', 'non-hostile', 'non-hostile', 'defamation', 'non-hostile', 'defamation', 'defamation', 'non-hostile', 'fake', 'non-hostile', 'non-hostile', 'hate,offensive', 'non-hostile', 'non-hostile', 'non-hostile', 'non-hostile', 'non-hostile', 'fake', 'hate', 'fake', 'fake', 'hate', 'non-hostile', 'non-hostile', 'non-hostile', 'fake', 'non-hostile', 'non-hostile', 'non-hostile', 'fake', 'non-hostile', 'hate,offensive', 'non-hostile', 'non-hostile', 'fake', 'non-hostile', 'non-hostile', 'non-hostile', 'fake', 'non-hostile', 'non-hostile', 'non-hostile', 'hate', 'non-hostile', 'fake', 'fake', 'non-hostile', 'non-hostile', 'non-hostile', 'fake', 'defamation,offensive', 'non-hostile', 'non-hostile', 'defamation,hate', 'offensive', 'defamation,fake,hate,offensive', 'fake', 'defamation,offensive', 'non-hostile', 'non-hostile', 'hate', 'offensive', 'fake', 'defamation', 'defamation', 'defamation,fake,hate,offensive', 'non-hostile', 'non-hostile', 'non-hostile', 'fake', 'non-hostile', 'defamation,fake,offensive', 'offensive', 'offensive', 'fake', 'non-hostile', 'non-hostile', 'non-hostile', 'defamation', 'non-hostile', 'non-hostile', 'fake', 'fake', 'non-hostile', 'fake', 'hate', 'defamation', 'fake', 'non-hostile', 'non-hostile', 'fake', 'fake,offensive', 'hate,offensive', 'fake', 'non-hostile', 'non-hostile', 'non-hostile', 'defamation,fake,offensive', 'non-hostile', 'non-hostile', 'offensive', 'non-hostile', 'offensive', 'fake', 'non-hostile', 'defamation', 'fake', 'offensive', 'non-hostile', 'non-hostile', 'non-hostile', 'fake', 'defamation', 'fake', 'offensive', 'fake', 'non-hostile', 'non-hostile', 'hate,offensive', 'non-hostile', 'non-hostile', 'non-hostile', 'offensive', 'defamation', 'non-hostile', 'non-hostile', 'fake', 'hate', 'non-hostile', 'offensive', 'fake', 'offensive', 'offensive', 'defamation,hate', 'non-hostile', 'non-hostile', 'non-hostile', 'non-hostile', 'non-hostile', 'defamation', 'non-hostile', 'non-hostile', 'fake', 'hate', 'fake', 'non-hostile', 'defamation,offensive', 'non-hostile', 'hate', 'non-hostile', 'offensive', 'fake', 'non-hostile', 'fake', 'hate,offensive', 'non-hostile', 'hate', 'offensive', 'offensive', 'fake', 'offensive', 'defamation', 'fake', 'fake', 'fake', 'non-hostile', 'fake', 'non-hostile', 'fake', 'non-hostile', 'defamation', 'non-hostile', 'fake', 'non-hostile', 'defamation,fake,hate', 'non-hostile', 'fake', 'defamation,offensive', 'defamation,fake', 'offensive', 'hate', 'non-hostile', 'non-hostile', 'non-hostile', 'non-hostile', 'non-hostile', 'non-hostile', 'non-hostile', 'hate', 'non-hostile', 'non-hostile', 'non-hostile', 'fake', 'hate', 'non-hostile', 'non-hostile', 'non-hostile', 'non-hostile', 'non-hostile', 'defamation,hate,offensive', 'fake', 'non-hostile', 'non-hostile', 'non-hostile', 'non-hostile', 'non-hostile', 'non-hostile', 'defamation', 'non-hostile', 'non-hostile', 'non-hostile', 'non-hostile', 'non-hostile', 'non-hostile', 'non-hostile', 'non-hostile', 'non-hostile', 'offensive', 'non-hostile', 'hate,offensive', 'hate', 'non-hostile', 'non-hostile', 'non-hostile', 'non-hostile', 'fake', 'non-hostile', 'offensive', 'non-hostile', 'fake', 'defamation,offensive', 'non-hostile', 'non-hostile', 'non-hostile', 'fake', 'defamation,fake', 'non-hostile', 'defamation,offensive', 'hate', 'non-hostile', 'non-hostile', 'non-hostile', 'non-hostile', 'non-hostile', 'fake', 'defamation', 'non-hostile', 'non-hostile', 'non-hostile', 'fake', 'hate', 'hate', 'non-hostile', 'non-hostile', 'non-hostile', 'non-hostile', 'non-hostile', 'non-hostile', 'hate', 'hate', 'non-hostile', 'non-hostile', 'offensive', 'non-hostile', 'non-hostile', 'defamation,fake,hate,offensive', 'hate', 'non-hostile', 'hate', 'hate,offensive', 'non-hostile', 'non-hostile', 'fake,offensive', 'defamation', 'fake', 'non-hostile', 'offensive', 'fake', 'non-hostile', 'non-hostile', 'offensive', 'non-hostile', 'offensive', 'hate', 'defamation', 'offensive', 'non-hostile', 'non-hostile', 'non-hostile', 'hate', 'defamation', 'defamation,offensive', 'defamation', 'fake', 'non-hostile', 'fake', 'offensive', 'non-hostile', 'fake,hate', 'non-hostile', 'non-hostile', 'fake', 'fake', 'hate', 'defamation', 'defamation', 'non-hostile', 'non-hostile', 'non-hostile', 'offensive', 'non-hostile', 'non-hostile', 'defamation', 'hate', 'fake', 'non-hostile', 'defamation,offensive', 'non-hostile', 'fake', 'non-hostile', 'non-hostile', 'defamation', 'non-hostile', 'fake', 'offensive', 'non-hostile', 'hate,offensive', 'fake', 'fake', 'hate', 'defamation', 'non-hostile', 'fake', 'hate,offensive', 'non-hostile', 'non-hostile', 'hate,offensive', 'non-hostile', 'offensive', 'non-hostile', 'non-hostile', 'hate', 'fake', 'non-hostile', 'defamation', 'non-hostile', 'hate', 'non-hostile', 'fake', 'non-hostile', 'fake', 'non-hostile', 'non-hostile', 'defamation,hate,offensive', 'non-hostile', 'non-hostile', 'non-hostile', 'fake', 'offensive', 'fake', 'fake', 'non-hostile', 'defamation,offensive', 'fake', 'non-hostile', 'non-hostile', 'fake', 'defamation,fake', 'defamation,hate', 'hate', 'non-hostile', 'non-hostile', 'non-hostile', 'hate,offensive', 'defamation,fake,offensive', 'non-hostile', 'fake', 'defamation', 'non-hostile', 'non-hostile', 'non-hostile', 'offensive', 'non-hostile', 'offensive', 'non-hostile', 'fake', 'fake', 'fake', 'fake', 'non-hostile', 'hate', 'hate', 'non-hostile', 'non-hostile', 'fake', 'non-hostile', 'non-hostile', 'hate,offensive', 'non-hostile', 'non-hostile', 'non-hostile', 'non-hostile', 'non-hostile', 'non-hostile', 'non-hostile', 'defamation', 'defamation', 'non-hostile', 'non-hostile', 'non-hostile', 'fake', 'non-hostile', 'defamation', 'non-hostile', 'non-hostile', 'non-hostile', 'non-hostile', 'hate', 'fake', 'non-hostile', 'fake', 'non-hostile', 'non-hostile', 'hate', 'non-hostile', 'non-hostile', 'non-hostile', 'fake', 'fake', 'non-hostile', 'non-hostile', 'fake', 'offensive', 'fake', 'fake', 'non-hostile', 'defamation,hate,offensive', 'non-hostile', 'defamation', 'offensive', 'fake', 'non-hostile', 'non-hostile', 'non-hostile', 'non-hostile', 'hate', 'fake', 'defamation', 'non-hostile', 'defamation', 'non-hostile', 'non-hostile', 'fake', 'non-hostile', 'fake', 'defamation', 'hate', 'non-hostile', 'non-hostile', 'non-hostile', 'non-hostile', 'non-hostile', 'fake,offensive', 'fake', 'non-hostile', 'non-hostile', 'defamation,hate', 'hate', 'non-hostile', 'non-hostile', 'non-hostile', 'fake', 'non-hostile', 'fake', 'non-hostile', 'offensive', 'offensive', 'fake', 'non-hostile', 'non-hostile', 'fake', 'non-hostile', 'fake', 'fake', 'non-hostile', 'defamation,fake', 'non-hostile', 'defamation,hate', 'non-hostile', 'non-hostile', 'fake', 'non-hostile', 'non-hostile', 'non-hostile', 'fake', 'offensive', 'hate', 'non-hostile', 'non-hostile', 'non-hostile', 'non-hostile', 'non-hostile', 'hate', 'defamation,hate', 'non-hostile', 'non-hostile', 'non-hostile', 'defamation,fake', 'offensive', 'non-hostile', 'hate', 'non-hostile', 'non-hostile', 'non-hostile', 'non-hostile', 'fake,hate', 'non-hostile', 'fake,offensive', 'fake', 'non-hostile', 'fake', 'non-hostile', 'non-hostile', 'non-hostile', 'defamation', 'non-hostile', 'fake', 'offensive', 'hate', 'non-hostile', 'offensive', 'non-hostile', 'non-hostile', 'offensive', 'defamation,hate', 'defamation', 'non-hostile', 'non-hostile', 'offensive', 'fake', 'non-hostile', 'fake', 'non-hostile', 'defamation', 'hate,offensive', 'non-hostile', 'defamation,hate', 'fake', 'non-hostile', 'non-hostile', 'non-hostile', 'non-hostile', 'non-hostile', 'non-hostile', 'fake', 'non-hostile', 'fake', 'defamation,fake', 'non-hostile', 'non-hostile', 'offensive', 'fake', 'non-hostile', 'non-hostile', 'fake', 'non-hostile', 'fake', 'offensive', 'hate', 'non-hostile', 'non-hostile', 'non-hostile', 'non-hostile', 'defamation', 'non-hostile', 'fake,hate', 'offensive', 'defamation', 'fake', 'fake', 'non-hostile', 'non-hostile', 'non-hostile', 'non-hostile', 'defamation', 'non-hostile', 'non-hostile', 'non-hostile', 'non-hostile', 'non-hostile', 'non-hostile', 'fake', 'non-hostile', 'non-hostile', 'non-hostile', 'defamation', 'fake', 'hate,offensive', 'non-hostile', 'defamation', 'non-hostile', 'non-hostile', 'non-hostile', 'non-hostile', 'fake', 'fake', 'non-hostile', 'defamation', 'non-hostile', 'non-hostile', 'non-hostile', 'non-hostile', 'non-hostile', 'non-hostile', 'fake', 'fake,offensive', 'non-hostile', 'non-hostile', 'hate', 'defamation,fake', 'non-hostile', 'fake', 'non-hostile', 'non-hostile', 'non-hostile', 'fake', 'non-hostile', 'non-hostile', 'fake', 'non-hostile', 'non-hostile', 'non-hostile', 'hate', 'defamation', 'offensive', 'fake', 'non-hostile', 'non-hostile', 'non-hostile', 'fake,hate', 'fake', 'defamation', 'hate', 'non-hostile', 'non-hostile', 'fake', 'offensive', 'defamation', 'non-hostile', 'non-hostile', 'non-hostile', 'non-hostile', 'hate', 'non-hostile', 'defamation', 'fake', 'hate,offensive', 'defamation', 'non-hostile', 'fake', 'offensive', 'non-hostile', 'non-hostile', 'non-hostile', 'fake', 'non-hostile', 'hate', 'fake', 'non-hostile', 'non-hostile', 'non-hostile', 'fake', 'fake', 'defamation', 'non-hostile', 'fake', 'non-hostile', 'fake', 'hate', 'fake', 'non-hostile', 'fake', 'non-hostile', 'non-hostile', 'fake', 'non-hostile', 'defamation,hate,offensive', 'defamation', 'offensive', 'non-hostile', 'non-hostile', 'non-hostile', 'defamation,hate', 'fake', 'non-hostile', 'non-hostile', 'hate,offensive', 'non-hostile', 'non-hostile', 'fake', 'non-hostile', 'offensive', 'non-hostile', 'non-hostile', 'non-hostile', 'non-hostile', 'non-hostile', 'hate', 'fake', 'non-hostile', 'non-hostile', 'defamation,hate', 'defamation,offensive', 'offensive', 'hate', 'non-hostile', 'fake', 'non-hostile', 'offensive', 'defamation', 'non-hostile', 'hate', 'fake', 'hate', 'non-hostile', 'non-hostile', 'non-hostile', 'non-hostile', 'defamation', 'non-hostile', 'non-hostile', 'defamation', 'non-hostile', 'offensive', 'non-hostile', 'hate', 'fake', 'non-hostile', 'offensive', 'non-hostile', 'non-hostile', 'non-hostile', 'non-hostile', 'hate', 'hate', 'non-hostile', 'fake', 'non-hostile', 'non-hostile', 'non-hostile', 'non-hostile', 'non-hostile', 'hate', 'non-hostile', 'non-hostile', 'non-hostile', 'non-hostile', 'non-hostile', 'non-hostile', 'hate', 'non-hostile', 'non-hostile', 'hate,offensive', 'non-hostile', 'non-hostile', 'non-hostile', 'fake', 'non-hostile', 'non-hostile', 'defamation,hate', 'non-hostile', 'fake', 'non-hostile', 'non-hostile', 'non-hostile', 'non-hostile', 'non-hostile', 'fake', 'non-hostile', 'fake,offensive', 'non-hostile', 'non-hostile', 'non-hostile', 'fake', 'non-hostile', 'non-hostile', 'non-hostile', 'hate', 'hate,offensive', 'non-hostile', 'fake', 'non-hostile', 'fake', 'hate,offensive', 'non-hostile', 'non-hostile', 'fake', 'fake', 'defamation', 'non-hostile', 'non-hostile', 'fake', 'non-hostile', 'non-hostile', 'non-hostile', 'defamation,hate', 'fake', 'non-hostile', 'fake', 'hate', 'non-hostile', 'defamation', 'non-hostile', 'non-hostile', 'non-hostile', 'defamation', 'non-hostile', 'fake', 'fake', 'non-hostile', 'hate', 'offensive', 'fake', 'defamation', 'non-hostile', 'fake', 'fake', 'hate,offensive', 'offensive', 'non-hostile', 'non-hostile', 'non-hostile', 'non-hostile', 'non-hostile', 'defamation,hate,offensive', 'hate', 'non-hostile', 'non-hostile', 'fake', 'offensive', 'fake', 'fake', 'non-hostile', 'non-hostile', 'defamation,fake,offensive', 'defamation,hate', 'non-hostile', 'defamation', 'non-hostile', 'hate', 'defamation,offensive', 'non-hostile', 'non-hostile', 'fake', 'hate', 'defamation,offensive', 'offensive', 'non-hostile', 'non-hostile', 'non-hostile', 'non-hostile', 'hate,offensive', 'defamation,hate,offensive', 'non-hostile', 'non-hostile', 'non-hostile', 'offensive', 'hate', 'non-hostile', 'offensive', 'non-hostile', 'non-hostile', 'non-hostile', 'fake', 'non-hostile', 'fake,offensive', 'hate', 'hate,offensive', 'non-hostile', 'fake', 'fake', 'non-hostile', 'non-hostile', 'non-hostile', 'non-hostile', 'hate', 'non-hostile', 'non-hostile', 'offensive', 'fake', 'non-hostile', 'non-hostile', 'non-hostile', 'non-hostile', 'offensive', 'hate', 'non-hostile', 'non-hostile', 'non-hostile', 'defamation', 'hate,offensive', 'non-hostile', 'fake', 'non-hostile', 'non-hostile', 'non-hostile', 'non-hostile', 'fake', 'defamation,offensive', 'defamation', 'non-hostile', 'non-hostile', 'non-hostile', 'fake', 'non-hostile', 'non-hostile', 'offensive', 'non-hostile', 'fake', 'non-hostile', 'non-hostile', 'hate,offensive', 'defamation,fake', 'fake', 'defamation', 'non-hostile', 'non-hostile', 'fake', 'non-hostile', 'fake', 'hate', 'hate', 'non-hostile', 'fake', 'fake,offensive', 'fake', 'offensive', 'non-hostile', 'hate', 'non-hostile', 'defamation', 'fake', 'fake', 'fake', 'fake', 'non-hostile', 'non-hostile', 'non-hostile', 'fake', 'hate', 'non-hostile', 'defamation', 'non-hostile', 'non-hostile', 'non-hostile', 'fake', 'non-hostile', 'non-hostile', 'defamation', 'non-hostile', 'non-hostile', 'non-hostile', 'fake', 'fake,hate', 'hate', 'fake', 'non-hostile', 'fake,hate', 'non-hostile', 'offensive', 'fake', 'non-hostile', 'non-hostile', 'fake', 'non-hostile', 'hate', 'hate,offensive', 'non-hostile', 'non-hostile', 'hate,offensive', 'non-hostile', 'defamation', 'fake', 'non-hostile', 'non-hostile', 'non-hostile', 'non-hostile', 'offensive', 'non-hostile', 'offensive', 'non-hostile', 'offensive', 'non-hostile', 'non-hostile', 'fake', 'fake', 'non-hostile', 'non-hostile', 'non-hostile', 'non-hostile', 'non-hostile', 'non-hostile', 'non-hostile', 'non-hostile', 'defamation', 'non-hostile', 'hate', 'non-hostile', 'non-hostile', 'offensive', 'non-hostile', 'hate,offensive', 'non-hostile', 'non-hostile', 'non-hostile', 'fake', 'non-hostile', 'fake', 'offensive', 'defamation', 'non-hostile', 'non-hostile', 'non-hostile', 'non-hostile', 'fake', 'offensive', 'non-hostile', 'non-hostile', 'non-hostile', 'non-hostile', 'hate', 'fake', 'non-hostile', 'non-hostile', 'non-hostile', 'defamation,hate,offensive', 'fake', 'fake', 'non-hostile', 'non-hostile', 'non-hostile', 'fake', 'hate,offensive', 'non-hostile', 'non-hostile', 'non-hostile', 'non-hostile', 'offensive', 'hate,offensive', 'non-hostile', 'non-hostile', 'non-hostile', 'non-hostile', 'non-hostile', 'defamation', 'offensive', 'non-hostile', 'non-hostile', 'non-hostile', 'fake', 'defamation', 'fake', 'fake', 'non-hostile', 'non-hostile', 'non-hostile', 'non-hostile', 'non-hostile', 'offensive', 'offensive', 'non-hostile', 'fake', 'hate,offensive', 'non-hostile', 'non-hostile', 'fake', 'non-hostile', 'non-hostile', 'non-hostile', 'defamation', 'hate', 'non-hostile', 'hate', 'defamation', 'fake,offensive', 'non-hostile', 'offensive', 'hate,offensive', 'non-hostile', 'fake', 'non-hostile', 'defamation', 'hate', 'non-hostile', 'non-hostile', 'defamation,offensive', 'offensive', 'non-hostile', 'defamation', 'non-hostile', 'fake', 'non-hostile', 'hate', 'non-hostile', 'hate', 'hate', 'hate', 'non-hostile', 'non-hostile', 'fake', 'non-hostile', 'non-hostile', 'non-hostile', 'hate', 'offensive', 'non-hostile', 'non-hostile', 'defamation', 'hate', 'defamation,offensive', 'non-hostile', 'non-hostile', 'non-hostile', 'fake', 'non-hostile', 'non-hostile', 'non-hostile', 'non-hostile', 'hate,offensive', 'non-hostile', 'non-hostile', 'defamation', 'non-hostile', 'non-hostile', 'non-hostile', 'non-hostile', 'non-hostile', 'fake', 'non-hostile', 'non-hostile', 'non-hostile', 'non-hostile', 'defamation,offensive', 'defamation,offensive', 'non-hostile', 'non-hostile', 'non-hostile', 'fake', 'fake,hate', 'non-hostile', 'defamation', 'non-hostile', 'non-hostile', 'fake', 'non-hostile', 'non-hostile', 'fake', 'fake', 'non-hostile', 'fake', 'non-hostile', 'fake,offensive', 'non-hostile', 'fake', 'non-hostile', 'non-hostile', 'hate', 'non-hostile', 'fake', 'non-hostile', 'non-hostile', 'hate', 'non-hostile', 'non-hostile', 'non-hostile', 'fake', 'fake', 'offensive', 'fake', 'defamation,offensive', 'fake', 'hate,offensive', 'non-hostile', 'offensive', 'non-hostile', 'non-hostile', 'non-hostile', 'non-hostile', 'non-hostile', 'non-hostile', 'non-hostile', 'non-hostile', 'non-hostile', 'fake', 'hate,offensive', 'offensive', 'hate', 'non-hostile', 'non-hostile', 'non-hostile', 'non-hostile', 'hate,offensive', 'defamation', 'fake', 'fake', 'fake', 'non-hostile', 'non-hostile', 'non-hostile', 'defamation', 'non-hostile', 'hate,offensive', 'non-hostile', 'non-hostile', 'fake', 'defamation', 'hate', 'non-hostile', 'non-hostile', 'non-hostile', 'hate,offensive', 'non-hostile', 'non-hostile', 'defamation', 'offensive', 'non-hostile', 'fake', 'fake', 'fake', 'non-hostile', 'hate', 'non-hostile', 'fake', 'non-hostile', 'non-hostile', 'non-hostile', 'non-hostile', 'defamation', 'offensive', 'non-hostile', 'non-hostile', 'non-hostile', 'non-hostile', 'non-hostile', 'non-hostile', 'offensive', 'non-hostile', 'defamation,hate', 'fake', 'non-hostile', 'non-hostile', 'non-hostile', 'non-hostile', 'non-hostile', 'hate,offensive', 'non-hostile', 'defamation,fake', 'fake', 'offensive', 'non-hostile', 'non-hostile', 'fake', 'non-hostile', 'non-hostile', 'offensive', 'fake', 'fake', 'hate,offensive', 'non-hostile', 'fake', 'non-hostile', 'fake', 'non-hostile', 'non-hostile', 'defamation,fake', 'non-hostile', 'hate,offensive', 'defamation,hate', 'non-hostile', 'non-hostile', 'fake', 'non-hostile', 'non-hostile', 'offensive', 'non-hostile', 'non-hostile', 'non-hostile', 'non-hostile', 'fake', 'fake', 'non-hostile', 'fake', 'non-hostile', 'hate', 'defamation,hate', 'defamation,hate', 'hate', 'defamation', 'non-hostile', 'non-hostile', 'non-hostile', 'hate', 'non-hostile', 'non-hostile', 'non-hostile', 'fake', 'fake', 'fake', 'hate', 'hate', 'non-hostile', 'defamation', 'defamation,fake', 'non-hostile', 'fake', 'hate', 'non-hostile', 'non-hostile', 'hate', 'non-hostile', 'non-hostile', 'non-hostile', 'non-hostile', 'defamation,fake', 'non-hostile', 'defamation', 'non-hostile', 'non-hostile', 'fake', 'non-hostile', 'non-hostile', 'non-hostile', 'non-hostile', 'non-hostile', 'non-hostile', 'non-hostile', 'offensive', 'non-hostile', 'hate,offensive', 'offensive', 'fake', 'non-hostile', 'non-hostile', 'fake', 'non-hostile', 'non-hostile', 'hate', 'non-hostile', 'non-hostile', 'fake', 'defamation,hate', 'fake', 'fake', 'non-hostile', 'fake', 'hate,offensive', 'non-hostile', 'hate', 'non-hostile', 'defamation,hate', 'hate,offensive', 'hate,offensive', 'offensive', 'non-hostile', 'non-hostile', 'offensive', 'non-hostile', 'defamation', 'defamation', 'non-hostile', 'non-hostile', 'offensive', 'non-hostile', 'non-hostile', 'non-hostile', 'fake', 'non-hostile', 'non-hostile', 'hate,offensive', 'non-hostile', 'non-hostile', 'hate', 'defamation', 'non-hostile', 'non-hostile', 'non-hostile', 'offensive', 'non-hostile', 'fake', 'hate', 'hate', 'non-hostile', 'hate', 'non-hostile', 'offensive', 'non-hostile', 'non-hostile', 'offensive', 'non-hostile', 'non-hostile', 'fake', 'non-hostile', 'non-hostile', 'non-hostile', 'fake', 'fake', 'non-hostile', 'hate', 'non-hostile', 'defamation', 'fake', 'fake', 'non-hostile', 'non-hostile', 'non-hostile', 'non-hostile', 'non-hostile', 'offensive', 'offensive', 'non-hostile', 'offensive', 'defamation,fake,offensive', 'non-hostile', 'hate', 'non-hostile', 'non-hostile', 'non-hostile', 'fake', 'offensive', 'hate', 'non-hostile', 'non-hostile', 'fake', 'non-hostile', 'non-hostile', 'non-hostile', 'non-hostile', 'non-hostile', 'defamation', 'non-hostile', 'defamation,offensive', 'fake', 'hate', 'non-hostile', 'non-hostile', 'non-hostile', 'non-hostile', 'non-hostile', 'non-hostile', 'defamation', 'non-hostile', 'defamation,hate', 'offensive', 'non-hostile', 'non-hostile', 'non-hostile', 'non-hostile', 'non-hostile', 'hate', 'non-hostile', 'non-hostile', 'fake', 'fake,offensive', 'fake', 'non-hostile', 'offensive', 'defamation', 'fake', 'defamation,fake,offensive', 'hate', 'non-hostile', 'fake', 'non-hostile', 'non-hostile', 'fake', 'non-hostile', 'non-hostile', 'hate', 'non-hostile', 'non-hostile', 'non-hostile', 'defamation', 'non-hostile', 'offensive', 'hate', 'non-hostile', 'fake', 'non-hostile', 'non-hostile', 'defamation,fake,hate,offensive', 'hate', 'defamation', 'defamation,hate', 'non-hostile', 'defamation', 'defamation,hate,offensive', 'fake', 'non-hostile', 'offensive', 'hate', 'non-hostile', 'hate', 'hate,offensive', 'non-hostile', 'fake', 'non-hostile', 'non-hostile', 'non-hostile', 'hate', 'hate', 'non-hostile', 'non-hostile', 'non-hostile', 'non-hostile', 'non-hostile', 'fake', 'non-hostile', 'non-hostile', 'non-hostile', 'fake', 'defamation', 'defamation,hate', 'non-hostile', 'fake', 'non-hostile', 'defamation,hate,offensive', 'fake', 'defamation', 'offensive', 'fake', 'non-hostile', 'non-hostile', 'offensive', 'non-hostile', 'non-hostile', 'fake', 'fake', 'fake', 'non-hostile', 'hate', 'defamation', 'fake', 'fake', 'non-hostile', 'fake', 'fake', 'hate', 'non-hostile', 'fake', 'fake', 'offensive', 'non-hostile', 'non-hostile', 'non-hostile', 'fake', 'non-hostile', 'hate', 'defamation', 'non-hostile', 'hate', 'hate', 'hate', 'fake', 'defamation,hate,offensive', 'non-hostile', 'non-hostile', 'defamation', 'non-hostile', 'fake', 'non-hostile', 'non-hostile', 'offensive', 'hate,offensive', 'defamation', 'hate', 'fake', 'non-hostile', 'non-hostile', 'non-hostile', 'defamation,offensive', 'defamation,offensive', 'non-hostile', 'defamation,offensive', 'defamation', 'fake', 'non-hostile', 'non-hostile', 'non-hostile', 'non-hostile', 'non-hostile', 'offensive', 'offensive', 'offensive', 'non-hostile', 'fake', 'defamation,fake,offensive', 'non-hostile', 'hate', 'non-hostile', 'hate,offensive', 'fake', 'defamation,fake,hate,offensive', 'non-hostile', 'non-hostile', 'fake', 'non-hostile', 'defamation,offensive', 'fake', 'fake', 'offensive', 'non-hostile', 'non-hostile', 'fake', 'fake', 'defamation', 'offensive', 'non-hostile', 'hate', 'non-hostile', 'non-hostile', 'defamation,fake,offensive', 'non-hostile', 'non-hostile', 'non-hostile', 'fake', 'fake', 'non-hostile', 'non-hostile', 'non-hostile', 'non-hostile', 'non-hostile', 'non-hostile', 'non-hostile', 'non-hostile', 'offensive', 'hate', 'hate,offensive', 'fake', 'non-hostile', 'defamation', 'fake', 'fake', 'fake', 'non-hostile', 'non-hostile', 'hate', 'non-hostile', 'non-hostile', 'fake', 'defamation,fake,hate', 'non-hostile', 'defamation', 'hate', 'offensive', 'non-hostile', 'fake', 'defamation', 'non-hostile', 'non-hostile', 'offensive', 'non-hostile', 'non-hostile', 'non-hostile', 'non-hostile', 'offensive', 'non-hostile', 'fake', 'fake', 'offensive', 'non-hostile', 'defamation', 'fake', 'defamation', 'non-hostile', 'non-hostile', 'offensive', 'non-hostile', 'fake', 'hate,offensive', 'fake', 'hate', 'non-hostile', 'fake', 'non-hostile', 'non-hostile', 'non-hostile', 'fake,hate', 'non-hostile', 'non-hostile', 'hate', 'non-hostile', 'non-hostile', 'defamation', 'non-hostile', 'offensive', 'non-hostile', 'defamation', 'defamation,fake,offensive', 'non-hostile', 'non-hostile', 'non-hostile', 'hate,offensive', 'non-hostile', 'offensive', 'non-hostile', 'non-hostile', 'non-hostile', 'non-hostile', 'fake', 'fake', 'non-hostile', 'non-hostile', 'hate,offensive', 'offensive', 'hate', 'non-hostile', 'fake', 'hate,offensive', 'non-hostile', 'non-hostile', 'defamation,offensive', 'non-hostile', 'fake', 'fake', 'non-hostile', 'non-hostile', 'non-hostile', 'non-hostile', 'non-hostile', 'defamation', 'fake', 'non-hostile', 'non-hostile', 'fake', 'defamation,fake', 'defamation,fake,offensive', 'defamation,hate', 'defamation,offensive', 'fake', 'hate', 'offensive', 'non-hostile', 'fake', 'non-hostile', 'non-hostile', 'non-hostile', 'non-hostile', 'hate', 'hate', 'defamation,fake', 'non-hostile', 'fake', 'non-hostile', 'defamation,hate', 'non-hostile', 'hate', 'non-hostile', 'non-hostile', 'hate', 'fake', 'non-hostile', 'fake', 'non-hostile', 'defamation', 'non-hostile', 'fake', 'non-hostile', 'non-hostile', 'defamation,offensive', 'hate', 'non-hostile', 'hate', 'offensive', 'fake', 'hate,offensive', 'non-hostile', 'fake', 'non-hostile', 'non-hostile', 'non-hostile', 'non-hostile', 'non-hostile', 'non-hostile', 'offensive', 'fake', 'non-hostile', 'non-hostile', 'fake', 'fake', 'offensive', 'non-hostile', 'fake', 'non-hostile', 'fake', 'hate,offensive', 'defamation', 'fake', 'non-hostile', 'hate', 'non-hostile', 'fake', 'hate,offensive', 'non-hostile', 'non-hostile', 'fake', 'non-hostile', 'non-hostile', 'non-hostile', 'non-hostile', 'non-hostile', 'non-hostile', 'non-hostile', 'non-hostile', 'fake', 'fake', 'non-hostile', 'fake', 'offensive', 'non-hostile', 'non-hostile', 'non-hostile', 'fake', 'non-hostile', 'non-hostile', 'hate', 'hate,offensive', 'non-hostile', 'non-hostile', 'offensive', 'fake', 'non-hostile', 'hate', 'non-hostile', 'non-hostile', 'non-hostile', 'hate', 'non-hostile', 'fake', 'offensive', 'fake', 'offensive', 'non-hostile', 'offensive', 'non-hostile', 'fake', 'non-hostile', 'non-hostile', 'defamation', 'non-hostile', 'non-hostile', 'hate,offensive', 'defamation', 'non-hostile', 'fake', 'non-hostile', 'fake', 'hate', 'defamation,offensive', 'non-hostile', 'hate', 'non-hostile', 'non-hostile', 'hate', 'fake', 'non-hostile', 'non-hostile', 'fake', 'offensive', 'defamation,hate', 'defamation', 'hate,offensive', 'non-hostile', 'hate', 'fake', 'non-hostile', 'non-hostile', 'hate,offensive', 'non-hostile', 'non-hostile', 'defamation,fake,hate,offensive', 'hate,offensive', 'fake', 'defamation,hate', 'non-hostile', 'non-hostile', 'non-hostile', 'fake,hate', 'non-hostile', 'defamation,hate', 'non-hostile', 'fake', 'hate', 'non-hostile', 'offensive', 'fake', 'non-hostile', 'non-hostile', 'non-hostile', 'fake', 'fake', 'hate,offensive', 'non-hostile', 'hate', 'non-hostile', 'non-hostile', 'non-hostile', 'offensive', 'non-hostile', 'non-hostile', 'non-hostile', 'defamation', 'non-hostile', 'non-hostile', 'non-hostile', 'non-hostile', 'non-hostile', 'non-hostile', 'non-hostile', 'offensive', 'hate', 'non-hostile', 'defamation', 'fake', 'non-hostile', 'non-hostile', 'offensive', 'non-hostile', 'non-hostile', 'non-hostile', 'defamation', 'hate,offensive', 'fake', 'offensive', 'non-hostile', 'non-hostile', 'fake', 'hate,offensive', 'hate', 'hate', 'offensive', 'non-hostile', 'non-hostile', 'defamation,hate', 'offensive', 'non-hostile', 'defamation,hate', 'non-hostile', 'defamation,hate,offensive', 'defamation', 'non-hostile', 'offensive', 'non-hostile', 'non-hostile', 'non-hostile', 'non-hostile', 'non-hostile', 'fake', 'non-hostile', 'defamation,hate,offensive', 'fake', 'hate', 'fake', 'non-hostile', 'fake,offensive', 'defamation', 'hate', 'non-hostile', 'non-hostile', 'hate', 'non-hostile', 'non-hostile', 'non-hostile', 'hate', 'non-hostile', 'non-hostile', 'non-hostile', 'hate', 'non-hostile', 'non-hostile', 'fake', 'fake', 'non-hostile', 'non-hostile', 'hate,offensive', 'fake', 'hate', 'non-hostile', 'fake', 'fake', 'non-hostile', 'fake', 'fake', 'fake', 'non-hostile', 'defamation', 'non-hostile', 'non-hostile', 'non-hostile', 'hate', 'fake', 'defamation,hate', 'non-hostile', 'non-hostile', 'non-hostile', 'non-hostile', 'hate,offensive', 'non-hostile', 'non-hostile', 'non-hostile', 'hate', 'fake', 'non-hostile', 'non-hostile', 'non-hostile', 'non-hostile', 'offensive', 'non-hostile', 'non-hostile', 'hate', 'non-hostile', 'offensive', 'non-hostile', 'offensive', 'non-hostile', 'fake', 'non-hostile', 'defamation', 'hate', 'fake', 'defamation,offensive', 'non-hostile', 'non-hostile', 'fake', 'defamation,fake,hate', 'non-hostile', 'offensive', 'defamation', 'non-hostile', 'non-hostile', 'non-hostile', 'non-hostile', 'non-hostile', 'non-hostile', 'non-hostile', 'hate', 'fake', 'hate,offensive', 'fake', 'fake', 'non-hostile', 'fake', 'non-hostile', 'non-hostile', 'non-hostile', 'non-hostile', 'non-hostile', 'non-hostile', 'defamation', 'non-hostile', 'fake', 'non-hostile', 'fake,hate', 'non-hostile', 'non-hostile', 'non-hostile', 'non-hostile', 'non-hostile', 'fake', 'non-hostile', 'defamation,hate', 'fake', 'non-hostile', 'non-hostile', 'non-hostile', 'non-hostile', 'non-hostile', 'offensive', 'non-hostile', 'non-hostile', 'hate', 'defamation,fake', 'non-hostile', 'non-hostile', 'non-hostile', 'non-hostile', 'non-hostile', 'hate', 'non-hostile', 'non-hostile', 'non-hostile', 'fake', 'non-hostile', 'non-hostile', 'non-hostile', 'non-hostile', 'non-hostile', 'non-hostile', 'offensive', 'non-hostile', 'non-hostile', 'hate,offensive', 'defamation', 'hate', 'hate', 'non-hostile', 'offensive', 'non-hostile', 'hate', 'non-hostile', 'non-hostile', 'offensive', 'non-hostile', 'non-hostile', 'defamation,hate', 'non-hostile', 'fake', 'hate', 'non-hostile', 'fake', 'non-hostile', 'fake', 'non-hostile', 'non-hostile', 'non-hostile', 'non-hostile', 'defamation', 'non-hostile', 'fake', 'non-hostile', 'fake', 'non-hostile', 'non-hostile', 'fake', 'non-hostile', 'hate', 'fake', 'fake', 'non-hostile', 'non-hostile', 'hate', 'non-hostile', 'non-hostile', 'offensive', 'non-hostile', 'fake', 'non-hostile', 'non-hostile', 'hate', 'non-hostile', 'non-hostile', 'fake,offensive', 'non-hostile', 'non-hostile', 'non-hostile', 'fake', 'non-hostile', 'hate,offensive', 'non-hostile', 'hate,offensive', 'defamation,hate', 'non-hostile', 'fake', 'offensive', 'defamation', 'non-hostile', 'fake', 'non-hostile', 'offensive', 'defamation,offensive', 'non-hostile', 'fake', 'non-hostile', 'hate,offensive', 'non-hostile', 'fake', 'fake', 'offensive', 'non-hostile', 'non-hostile', 'offensive', 'hate', 'hate', 'offensive', 'fake', 'non-hostile', 'non-hostile', 'defamation', 'non-hostile', 'non-hostile', 'non-hostile', 'fake', 'non-hostile', 'fake', 'non-hostile', 'non-hostile', 'offensive', 'offensive', 'defamation,fake,hate,offensive', 'non-hostile', 'hate', 'defamation', 'non-hostile', 'non-hostile', 'non-hostile', 'non-hostile', 'non-hostile', 'non-hostile', 'non-hostile', 'fake', 'offensive', 'fake,offensive', 'fake', 'non-hostile', 'hate', 'non-hostile', 'hate,offensive', 'hate', 'fake', 'offensive', 'offensive', 'fake', 'defamation', 'non-hostile', 'fake', 'hate', 'non-hostile', 'non-hostile', 'non-hostile', 'defamation', 'non-hostile', 'fake', 'non-hostile', 'defamation', 'non-hostile', 'fake', 'non-hostile', 'hate', 'fake', 'non-hostile', 'defamation', 'non-hostile', 'hate', 'non-hostile', 'offensive', 'non-hostile', 'fake', 'non-hostile', 'non-hostile', 'hate', 'non-hostile', 'offensive', 'non-hostile', 'non-hostile', 'non-hostile', 'fake,hate', 'hate', 'hate', 'non-hostile', 'non-hostile', 'non-hostile', 'hate,offensive', 'non-hostile', 'fake', 'non-hostile', 'non-hostile', 'non-hostile', 'non-hostile', 'non-hostile', 'non-hostile', 'non-hostile', 'offensive', 'defamation,offensive', 'fake', 'offensive', 'non-hostile', 'non-hostile', 'non-hostile', 'non-hostile', 'non-hostile', 'hate', 'hate', 'non-hostile', 'non-hostile', 'non-hostile', 'fake', 'non-hostile', 'non-hostile', 'defamation', 'non-hostile', 'hate,offensive', 'defamation,hate,offensive', 'non-hostile', 'fake', 'non-hostile', 'hate', 'non-hostile', 'offensive', 'non-hostile', 'fake', 'non-hostile', 'fake', 'non-hostile', 'defamation', 'non-hostile', 'non-hostile', 'offensive', 'fake', 'offensive', 'non-hostile', 'hate', 'non-hostile', 'non-hostile', 'non-hostile', 'non-hostile', 'non-hostile', 'fake', 'non-hostile', 'non-hostile', 'non-hostile', 'fake', 'fake', 'offensive', 'non-hostile', 'hate,offensive', 'defamation', 'non-hostile', 'fake,hate', 'hate', 'fake', 'defamation,offensive', 'offensive', 'fake', 'non-hostile', 'offensive', 'non-hostile', 'hate', 'non-hostile', 'non-hostile', 'non-hostile', 'non-hostile', 'non-hostile', 'non-hostile', 'non-hostile', 'non-hostile', 'fake', 'non-hostile', 'non-hostile', 'fake', 'defamation', 'non-hostile', 'non-hostile', 'defamation', 'fake', 'defamation', 'non-hostile', 'non-hostile', 'fake', 'non-hostile', 'non-hostile', 'hate', 'non-hostile', 'non-hostile', 'non-hostile', 'non-hostile', 'non-hostile', 'defamation,fake,offensive', 'defamation,fake', 'non-hostile', 'non-hostile', 'non-hostile', 'non-hostile', 'non-hostile', 'non-hostile', 'defamation', 'fake', 'fake', 'non-hostile', 'non-hostile', 'offensive', 'defamation', 'defamation', 'non-hostile', 'non-hostile', 'fake', 'hate,offensive', 'non-hostile', 'non-hostile', 'fake', 'non-hostile', 'non-hostile', 'non-hostile', 'non-hostile', 'non-hostile', 'offensive', 'non-hostile', 'non-hostile', 'non-hostile', 'non-hostile', 'non-hostile', 'fake,hate', 'defamation,offensive', 'fake', 'non-hostile', 'non-hostile', 'non-hostile', 'fake', 'non-hostile', 'non-hostile', 'fake', 'non-hostile', 'non-hostile', 'fake', 'hate,offensive', 'non-hostile', 'non-hostile', 'non-hostile', 'non-hostile', 'non-hostile', 'non-hostile', 'fake', 'non-hostile', 'non-hostile', 'fake', 'defamation', 'fake', 'non-hostile', 'non-hostile', 'non-hostile', 'hate', 'defamation,offensive', 'hate,offensive', 'non-hostile', 'non-hostile', 'non-hostile', 'non-hostile', 'defamation,offensive', 'defamation', 'non-hostile', 'non-hostile', 'defamation', 'defamation,hate,offensive', 'non-hostile', 'non-hostile', 'fake', 'non-hostile', 'fake', 'hate', 'non-hostile', 'offensive', 'fake', 'hate', 'non-hostile', 'non-hostile', 'non-hostile', 'hate', 'fake', 'non-hostile', 'non-hostile', 'non-hostile', 'non-hostile', 'defamation,hate,offensive', 'non-hostile', 'defamation,hate', 'hate,offensive', 'non-hostile', 'defamation', 'fake', 'offensive', 'fake', 'fake', 'hate,offensive', 'hate', 'non-hostile', 'non-hostile', 'defamation,offensive', 'non-hostile', 'non-hostile', 'non-hostile', 'non-hostile', 'defamation', 'non-hostile', 'fake', 'non-hostile', 'defamation', 'non-hostile', 'non-hostile', 'non-hostile', 'non-hostile', 'fake', 'non-hostile', 'fake', 'non-hostile', 'non-hostile', 'defamation', 'defamation,offensive', 'non-hostile', 'non-hostile', 'fake', 'non-hostile', 'non-hostile', 'non-hostile', 'non-hostile', 'non-hostile', 'non-hostile', 'hate,offensive', 'non-hostile', 'hate', 'non-hostile', 'non-hostile', 'hate', 'non-hostile', 'hate,offensive', 'non-hostile', 'non-hostile', 'hate', 'non-hostile', 'non-hostile', 'hate', 'fake', 'fake', 'non-hostile', 'non-hostile', 'non-hostile', 'fake', 'non-hostile', 'offensive', 'fake', 'non-hostile', 'non-hostile', 'defamation', 'fake', 'fake', 'defamation,hate', 'non-hostile', 'hate', 'fake', 'non-hostile', 'non-hostile', 'hate', 'non-hostile', 'fake', 'hate', 'fake', 'fake', 'non-hostile', 'hate', 'hate,offensive', 'fake', 'non-hostile', 'fake', 'non-hostile', 'non-hostile', 'non-hostile', 'fake', 'non-hostile', 'defamation', 'non-hostile', 'non-hostile', 'hate,offensive', 'fake', 'fake', 'non-hostile', 'non-hostile', 'offensive', 'non-hostile', 'defamation,fake,offensive', 'non-hostile', 'hate,offensive', 'non-hostile', 'non-hostile', 'non-hostile', 'fake', 'non-hostile', 'non-hostile', 'fake', 'fake', 'non-hostile', 'non-hostile', 'non-hostile', 'hate', 'non-hostile', 'offensive', 'fake', 'defamation', 'non-hostile', 'non-hostile', 'non-hostile', 'defamation,fake', 'fake', 'non-hostile', 'offensive', 'non-hostile', 'non-hostile', 'non-hostile', 'fake', 'fake', 'defamation,offensive', 'fake', 'non-hostile', 'non-hostile', 'non-hostile', 'non-hostile', 'non-hostile', 'offensive', 'offensive', 'fake', 'non-hostile', 'hate', 'non-hostile', 'non-hostile', 'non-hostile', 'non-hostile', 'hate', 'non-hostile', 'fake', 'non-hostile', 'non-hostile', 'non-hostile', 'fake', 'non-hostile', 'fake', 'fake', 'non-hostile', 'non-hostile', 'non-hostile', 'defamation,hate', 'non-hostile', 'defamation,hate', 'non-hostile', 'hate,offensive', 'defamation', 'offensive', 'hate', 'non-hostile', 'non-hostile', 'fake', 'non-hostile', 'non-hostile', 'non-hostile', 'non-hostile', 'hate', 'non-hostile', 'fake', 'fake', 'non-hostile', 'fake', 'fake', 'non-hostile', 'non-hostile', 'fake', 'fake', 'non-hostile', 'non-hostile', 'non-hostile', 'non-hostile', 'non-hostile', 'defamation', 'fake', 'offensive', 'non-hostile', 'non-hostile', 'non-hostile', 'fake', 'non-hostile', 'defamation', 'non-hostile', 'non-hostile', 'non-hostile', 'non-hostile', 'non-hostile', 'non-hostile', 'non-hostile', 'fake', 'hate,offensive', 'non-hostile', 'non-hostile', 'non-hostile', 'fake', 'non-hostile', 'non-hostile', 'offensive', 'non-hostile', 'non-hostile', 'non-hostile', 'fake', 'fake', 'non-hostile', 'defamation', 'fake', 'non-hostile', 'non-hostile', 'non-hostile', 'non-hostile', 'hate,offensive', 'non-hostile', 'non-hostile', 'hate,offensive', 'hate', 'non-hostile', 'fake', 'fake', 'non-hostile', 'non-hostile', 'non-hostile', 'defamation,hate', 'offensive', 'fake', 'hate', 'non-hostile', 'fake', 'offensive', 'hate', 'non-hostile', 'non-hostile', 'fake', 'offensive', 'hate', 'non-hostile', 'fake', 'non-hostile', 'fake', 'non-hostile', 'non-hostile', 'offensive', 'non-hostile', 'non-hostile', 'non-hostile', 'fake', 'fake,hate', 'non-hostile', 'offensive', 'non-hostile', 'non-hostile', 'fake', 'defamation,offensive', 'non-hostile', 'non-hostile', 'non-hostile', 'non-hostile', 'non-hostile', 'fake', 'fake', 'non-hostile', 'non-hostile', 'non-hostile', 'hate', 'non-hostile', 'non-hostile', 'non-hostile', 'non-hostile', 'fake', 'non-hostile', 'non-hostile', 'fake,hate', 'hate', 'non-hostile', 'non-hostile', 'non-hostile', 'non-hostile', 'fake', 'offensive', 'non-hostile', 'hate,offensive', 'non-hostile', 'hate', 'fake', 'non-hostile', 'non-hostile', 'offensive', 'non-hostile', 'defamation', 'non-hostile', 'offensive', 'defamation,fake', 'fake', 'non-hostile', 'defamation', 'fake', 'defamation,offensive', 'non-hostile', 'non-hostile', 'offensive', 'non-hostile', 'fake', 'non-hostile', 'non-hostile', 'fake', 'hate,offensive', 'offensive', 'non-hostile', 'non-hostile', 'non-hostile', 'fake,hate', 'hate', 'defamation,offensive', 'non-hostile', 'offensive', 'non-hostile', 'non-hostile', 'defamation', 'hate,offensive', 'fake,offensive', 'fake,hate', 'fake', 'non-hostile', 'non-hostile', 'hate,offensive', 'non-hostile', 'fake', 'non-hostile', 'offensive', 'non-hostile', 'fake', 'non-hostile', 'defamation,offensive', 'hate,offensive', 'fake,offensive', 'fake', 'non-hostile', 'non-hostile', 'non-hostile', 'non-hostile', 'non-hostile', 'non-hostile', 'non-hostile', 'non-hostile', 'non-hostile', 'defamation,hate', 'fake', 'non-hostile', 'hate', 'non-hostile', 'offensive', 'fake', 'fake', 'fake', 'non-hostile', 'non-hostile', 'non-hostile', 'fake', 'non-hostile', 'non-hostile', 'fake', 'hate', 'hate', 'non-hostile', 'non-hostile', 'fake', 'non-hostile', 'non-hostile', 'fake', 'non-hostile', 'non-hostile', 'offensive', 'fake', 'hate', 'fake', 'defamation', 'fake', 'hate', 'fake', 'non-hostile', 'non-hostile', 'offensive', 'non-hostile', 'fake', 'fake', 'offensive', 'non-hostile', 'non-hostile', 'fake', 'hate', 'defamation,hate', 'fake,hate', 'defamation', 'non-hostile', 'non-hostile', 'non-hostile', 'fake', 'hate', 'hate', 'offensive', 'fake', 'defamation,offensive', 'hate,offensive', 'non-hostile', 'non-hostile', 'hate', 'hate', 'fake', 'non-hostile', 'hate', 'non-hostile', 'non-hostile', 'non-hostile', 'non-hostile', 'fake', 'non-hostile', 'defamation,hate,offensive', 'fake', 'non-hostile', 'non-hostile', 'defamation', 'defamation', 'non-hostile', 'non-hostile', 'non-hostile', 'non-hostile', 'defamation', 'non-hostile', 'fake', 'non-hostile', 'fake', 'non-hostile', 'non-hostile', 'hate,offensive', 'non-hostile', 'fake', 'hate', 'non-hostile', 'offensive', 'defamation', 'hate', 'non-hostile', 'non-hostile', 'offensive', 'non-hostile', 'non-hostile', 'non-hostile', 'offensive', 'non-hostile', 'non-hostile', 'hate', 'non-hostile', 'hate', 'non-hostile', 'non-hostile', 'defamation', 'offensive', 'non-hostile', 'non-hostile', 'non-hostile', 'hate', 'defamation,hate', 'offensive', 'defamation,hate', 'non-hostile', 'defamation,offensive', 'defamation', 'non-hostile', 'defamation', 'non-hostile', 'non-hostile', 'non-hostile', 'defamation,fake,offensive', 'hate', 'non-hostile', 'non-hostile', 'non-hostile', 'defamation,hate', 'fake', 'non-hostile', 'non-hostile', 'hate', 'defamation', 'offensive', 'defamation,fake,offensive', 'hate', 'offensive', 'non-hostile', 'non-hostile', 'fake', 'offensive', 'non-hostile', 'non-hostile', 'non-hostile', 'non-hostile', 'fake', 'hate', 'offensive', 'non-hostile', 'hate', 'non-hostile', 'non-hostile', 'defamation,fake,hate', 'non-hostile', 'fake', 'fake', 'non-hostile', 'fake', 'hate', 'non-hostile', 'non-hostile', 'non-hostile', 'non-hostile', 'non-hostile', 'defamation,fake', 'offensive', 'fake', 'non-hostile', 'non-hostile', 'defamation', 'non-hostile', 'defamation', 'non-hostile', 'non-hostile', 'offensive', 'fake', 'non-hostile', 'fake', 'non-hostile', 'defamation', 'fake', 'non-hostile', 'fake', 'non-hostile', 'non-hostile', 'non-hostile', 'non-hostile', 'offensive', 'defamation', 'fake', 'non-hostile', 'non-hostile', 'non-hostile', 'non-hostile', 'non-hostile', 'non-hostile', 'non-hostile', 'fake', 'non-hostile', 'non-hostile', 'offensive', 'fake', 'offensive', 'hate', 'hate', 'fake', 'offensive', 'fake', 'non-hostile', 'fake', 'non-hostile', 'non-hostile', 'non-hostile', 'fake', 'defamation,fake,hate', 'defamation', 'offensive', 'non-hostile', 'hate,offensive', 'defamation,fake', 'non-hostile', 'non-hostile', 'non-hostile', 'non-hostile', 'non-hostile', 'fake,hate', 'non-hostile', 'non-hostile', 'fake', 'non-hostile', 'non-hostile', 'defamation,offensive', 'hate', 'fake', 'offensive', 'fake', 'non-hostile', 'non-hostile', 'non-hostile', 'fake', 'non-hostile', 'defamation,offensive', 'hate', 'non-hostile', 'offensive', 'non-hostile', 'offensive', 'non-hostile', 'non-hostile', 'fake', 'fake', 'non-hostile', 'hate,offensive', 'non-hostile', 'fake', 'fake', 'non-hostile', 'defamation', 'non-hostile', 'offensive', 'non-hostile', 'non-hostile', 'non-hostile', 'fake,hate', 'non-hostile', 'non-hostile', 'non-hostile', 'defamation', 'offensive', 'fake', 'fake', 'hate', 'fake', 'defamation', 'non-hostile', 'non-hostile', 'non-hostile', 'non-hostile', 'non-hostile', 'fake', 'non-hostile', 'non-hostile', 'offensive', 'non-hostile', 'fake', 'non-hostile', 'non-hostile', 'non-hostile', 'non-hostile', 'non-hostile', 'non-hostile', 'non-hostile', 'non-hostile', 'offensive', 'fake', 'non-hostile', 'hate', 'offensive', 'hate', 'fake', 'fake', 'non-hostile', 'defamation', 'non-hostile', 'hate', 'defamation,hate', 'defamation', 'non-hostile', 'fake', 'fake', 'hate', 'non-hostile', 'non-hostile', 'hate', 'non-hostile', 'non-hostile', 'non-hostile', 'non-hostile', 'non-hostile', 'non-hostile', 'fake', 'non-hostile', 'non-hostile', 'non-hostile', 'non-hostile', 'fake', 'non-hostile', 'non-hostile', 'non-hostile', 'non-hostile', 'offensive', 'non-hostile', 'non-hostile', 'offensive', 'non-hostile', 'non-hostile', 'non-hostile', 'fake', 'defamation', 'non-hostile', 'fake', 'non-hostile', 'hate,offensive', 'non-hostile', 'non-hostile', 'non-hostile', 'hate,offensive', 'fake', 'non-hostile', 'non-hostile', 'offensive', 'fake', 'non-hostile', 'non-hostile', 'non-hostile', 'fake', 'non-hostile', 'fake', 'non-hostile', 'non-hostile', 'non-hostile', 'non-hostile', 'offensive', 'non-hostile', 'non-hostile', 'hate,offensive', 'non-hostile', 'non-hostile', 'defamation', 'fake', 'defamation', 'non-hostile', 'non-hostile', 'non-hostile', 'non-hostile', 'non-hostile', 'fake', 'non-hostile', 'non-hostile', 'non-hostile', 'non-hostile', 'hate,offensive', 'fake', 'non-hostile', 'non-hostile', 'offensive', 'hate', 'non-hostile', 'fake,offensive', 'non-hostile', 'hate', 'non-hostile', 'non-hostile', 'non-hostile', 'non-hostile', 'non-hostile', 'non-hostile', 'fake', 'fake', 'defamation,fake,offensive', 'hate', 'non-hostile', 'hate', 'non-hostile', 'non-hostile', 'non-hostile', 'hate', 'non-hostile', 'hate', 'fake', 'non-hostile', 'fake', 'fake', 'hate,offensive', 'non-hostile', 'non-hostile', 'non-hostile', 'non-hostile', 'non-hostile', 'hate', 'fake', 'non-hostile', 'fake', 'non-hostile', 'offensive', 'non-hostile', 'non-hostile', 'non-hostile', 'defamation', 'defamation,fake', 'defamation,offensive', 'non-hostile', 'fake', 'fake', 'fake', 'defamation', 'non-hostile', 'fake', 'non-hostile', 'non-hostile', 'non-hostile', 'non-hostile', 'fake', 'hate', 'fake', 'non-hostile', 'defamation', 'hate', 'hate', 'non-hostile', 'non-hostile', 'non-hostile', 'non-hostile', 'hate,offensive', 'non-hostile', 'hate', 'non-hostile', 'non-hostile', 'fake', 'non-hostile', 'non-hostile', 'non-hostile', 'non-hostile', 'offensive', 'defamation,hate', 'fake', 'non-hostile', 'fake', 'hate', 'non-hostile', 'defamation', 'non-hostile', 'non-hostile', 'hate', 'non-hostile', 'non-hostile', 'hate,offensive', 'non-hostile', 'hate,offensive', 'fake', 'non-hostile', 'fake', 'non-hostile', 'offensive', 'non-hostile', 'non-hostile', 'non-hostile', 'non-hostile', 'hate', 'non-hostile', 'non-hostile', 'defamation', 'non-hostile', 'non-hostile', 'non-hostile', 'non-hostile', 'non-hostile', 'offensive', 'fake', 'hate', 'non-hostile', 'non-hostile', 'non-hostile', 'offensive', 'offensive', 'non-hostile', 'defamation,fake', 'hate,offensive', 'non-hostile', 'fake', 'fake', 'hate', 'non-hostile', 'non-hostile', 'offensive', 'hate', 'non-hostile', 'non-hostile', 'non-hostile', 'hate', 'non-hostile', 'non-hostile', 'fake', 'non-hostile', 'non-hostile', 'non-hostile', 'fake', 'fake', 'defamation', 'defamation', 'fake', 'fake', 'defamation', 'hate,offensive', 'hate', 'defamation', 'offensive', 'fake', 'hate,offensive', 'non-hostile', 'offensive', 'defamation,offensive', 'fake', 'non-hostile', 'fake', 'fake', 'defamation', 'non-hostile', 'non-hostile', 'defamation,fake', 'fake', 'offensive', 'defamation,hate', 'hate', 'fake', 'defamation,fake,offensive', 'offensive', 'non-hostile', 'fake', 'offensive', 'hate', 'non-hostile', 'non-hostile', 'fake,offensive', 'defamation', 'non-hostile', 'fake', 'offensive', 'defamation', 'non-hostile', 'non-hostile', 'non-hostile', 'hate,offensive', 'hate,offensive', 'defamation,offensive', 'hate', 'fake', 'fake', 'non-hostile', 'non-hostile', 'non-hostile', 'hate', 'non-hostile', 'offensive', 'fake', 'hate', 'non-hostile', 'defamation,hate', 'non-hostile', 'non-hostile', 'offensive', 'non-hostile', 'non-hostile', 'non-hostile', 'offensive', 'non-hostile', 'non-hostile', 'non-hostile', 'non-hostile', 'non-hostile', 'non-hostile', 'non-hostile', 'non-hostile', 'non-hostile', 'non-hostile', 'non-hostile', 'non-hostile', 'defamation', 'non-hostile', 'non-hostile', 'offensive', 'non-hostile', 'fake', 'non-hostile', 'fake', 'non-hostile', 'defamation,offensive', 'fake', 'hate,offensive', 'hate', 'fake', 'non-hostile', 'defamation', 'non-hostile', 'non-hostile', 'non-hostile', 'offensive', 'non-hostile', 'defamation', 'non-hostile', 'non-hostile', 'hate', 'non-hostile', 'non-hostile', 'non-hostile', 'non-hostile', 'non-hostile', 'non-hostile', 'non-hostile', 'non-hostile', 'non-hostile', 'non-hostile', 'non-hostile', 'non-hostile', 'non-hostile', 'non-hostile', 'hate', 'fake', 'hate', 'offensive', 'non-hostile', 'non-hostile', 'fake', 'non-hostile', 'fake', 'fake', 'non-hostile', 'non-hostile', 'hate,offensive', 'fake', 'non-hostile', 'hate', 'fake', 'fake', 'non-hostile', 'non-hostile', 'fake', 'non-hostile', 'non-hostile', 'fake', 'non-hostile', 'fake', 'non-hostile', 'non-hostile', 'non-hostile', 'non-hostile', 'non-hostile', 'non-hostile', 'hate', 'fake', 'non-hostile', 'non-hostile', 'non-hostile', 'non-hostile', 'fake', 'non-hostile', 'fake,offensive', 'fake', 'hate', 'non-hostile', 'non-hostile', 'fake', 'offensive', 'defamation', 'non-hostile', 'non-hostile', 'non-hostile', 'offensive', 'non-hostile', 'defamation', 'fake', 'defamation', 'offensive', 'fake,offensive', 'hate', 'non-hostile', 'non-hostile', 'fake', 'defamation,fake,offensive', 'non-hostile', 'hate', 'non-hostile', 'offensive', 'fake', 'fake', 'fake', 'defamation', 'non-hostile', 'fake', 'non-hostile', 'non-hostile', 'non-hostile', 'fake', 'non-hostile', 'non-hostile', 'non-hostile', 'non-hostile', 'fake', 'non-hostile', 'defamation', 'non-hostile', 'non-hostile', 'fake', 'non-hostile', 'non-hostile', 'fake', 'non-hostile', 'fake', 'non-hostile', 'non-hostile', 'non-hostile', 'fake,hate', 'non-hostile', 'non-hostile', 'offensive', 'non-hostile', 'fake,hate,offensive', 'defamation', 'non-hostile', 'fake', 'offensive', 'non-hostile', 'defamation', 'offensive', 'non-hostile', 'non-hostile', 'non-hostile', 'non-hostile', 'non-hostile', 'offensive', 'non-hostile', 'non-hostile', 'non-hostile', 'defamation,fake,offensive', 'defamation,fake', 'non-hostile', 'non-hostile', 'defamation', 'defamation,offensive', 'defamation,hate', 'hate', 'offensive', 'non-hostile', 'non-hostile', 'non-hostile', 'non-hostile', 'hate,offensive', 'fake', 'non-hostile', 'hate', 'non-hostile', 'fake', 'non-hostile', 'non-hostile', 'non-hostile', 'non-hostile', 'non-hostile', 'non-hostile', 'non-hostile', 'non-hostile', 'offensive', 'non-hostile', 'non-hostile', 'non-hostile', 'non-hostile', 'defamation', 'offensive', 'fake', 'hate', 'non-hostile', 'offensive', 'non-hostile', 'hate', 'non-hostile', 'fake,hate', 'fake', 'hate', 'offensive', 'non-hostile', 'defamation', 'non-hostile', 'non-hostile', 'defamation', 'non-hostile', 'fake', 'non-hostile', 'non-hostile', 'non-hostile', 'hate', 'fake', 'non-hostile', 'defamation,hate', 'fake,hate,offensive', 'non-hostile', 'fake', 'non-hostile', 'non-hostile', 'defamation,hate,offensive', 'non-hostile', 'defamation,fake,offensive', 'defamation,offensive', 'hate', 'non-hostile', 'non-hostile', 'fake', 'hate', 'non-hostile', 'fake', 'non-hostile', 'fake', 'hate', 'defamation', 'non-hostile', 'fake', 'non-hostile', 'fake', 'non-hostile', 'hate', 'non-hostile', 'offensive', 'hate,offensive', 'non-hostile', 'non-hostile', 'fake', 'defamation,offensive', 'non-hostile', 'fake', 'non-hostile', 'non-hostile', 'non-hostile', 'non-hostile', 'non-hostile', 'non-hostile', 'non-hostile', 'non-hostile', 'hate', 'non-hostile', 'non-hostile', 'non-hostile', 'non-hostile', 'non-hostile', 'fake', 'fake', 'non-hostile', 'fake', 'hate', 'defamation', 'hate', 'hate', 'non-hostile', 'hate', 'fake', 'non-hostile', 'non-hostile', 'non-hostile', 'offensive', 'fake', 'hate', 'fake', 'non-hostile', 'non-hostile', 'fake', 'hate', 'defamation', 'defamation', 'non-hostile', 'fake', 'non-hostile', 'fake', 'fake', 'fake', 'non-hostile', 'non-hostile', 'fake', 'hate', 'non-hostile', 'non-hostile', 'fake', 'hate', 'non-hostile', 'defamation,hate', 'non-hostile', 'fake', 'non-hostile', 'non-hostile', 'hate', 'non-hostile', 'hate', 'non-hostile', 'non-hostile', 'offensive', 'non-hostile', 'fake', 'fake', 'non-hostile', 'non-hostile', 'non-hostile', 'offensive', 'fake', 'hate', 'non-hostile', 'non-hostile', 'non-hostile', 'offensive', 'non-hostile', 'fake', 'non-hostile', 'non-hostile', 'non-hostile', 'non-hostile', 'defamation', 'offensive', 'non-hostile', 'hate', 'non-hostile', 'defamation', 'defamation', 'non-hostile', 'non-hostile', 'defamation', 'hate', 'non-hostile', 'non-hostile', 'non-hostile', 'non-hostile', 'fake', 'non-hostile', 'fake', 'non-hostile', 'non-hostile', 'hate', 'hate', 'non-hostile', 'fake', 'hate', 'fake', 'defamation', 'non-hostile', 'hate', 'non-hostile', 'non-hostile', 'hate', 'non-hostile', 'hate', 'non-hostile', 'offensive', 'non-hostile', 'hate', 'offensive', 'hate', 'non-hostile', 'fake', 'hate', 'hate', 'hate', 'non-hostile', 'non-hostile', 'defamation', 'fake', 'hate,offensive', 'fake', 'defamation,fake,hate,offensive', 'non-hostile', 'non-hostile', 'non-hostile', 'non-hostile', 'non-hostile', 'hate', 'defamation,hate,offensive', 'non-hostile', 'hate', 'offensive', 'offensive', 'non-hostile', 'non-hostile', 'offensive', 'non-hostile', 'non-hostile', 'hate,offensive', 'non-hostile', 'hate,offensive', 'fake', 'non-hostile', 'fake', 'non-hostile', 'fake', 'non-hostile', 'offensive', 'non-hostile', 'non-hostile', 'non-hostile', 'defamation', 'non-hostile', 'offensive', 'non-hostile', 'non-hostile', 'non-hostile', 'hate', 'non-hostile', 'fake', 'hate', 'non-hostile', 'non-hostile', 'non-hostile', 'non-hostile', 'hate', 'non-hostile', 'offensive', 'non-hostile', 'non-hostile', 'non-hostile', 'non-hostile', 'fake', 'offensive', 'hate,offensive', 'defamation,offensive', 'non-hostile', 'non-hostile', 'non-hostile', 'non-hostile', 'non-hostile', 'non-hostile', 'hate', 'fake', 'non-hostile', 'non-hostile', 'non-hostile', 'defamation,offensive', 'offensive', 'non-hostile', 'fake', 'hate', 'hate', 'non-hostile', 'fake', 'non-hostile', 'hate', 'non-hostile', 'non-hostile', 'fake', 'defamation', 'non-hostile', 'offensive', 'defamation', 'non-hostile', 'non-hostile', 'offensive', 'non-hostile', 'non-hostile', 'fake', 'fake', 'non-hostile', 'defamation,hate', 'non-hostile', 'fake,offensive', 'non-hostile', 'non-hostile', 'hate', 'non-hostile', 'fake', 'non-hostile', 'fake', 'fake', 'non-hostile', 'hate', 'non-hostile', 'non-hostile', 'fake', 'fake', 'hate', 'defamation', 'hate', 'non-hostile', 'non-hostile', 'fake', 'hate,offensive', 'non-hostile', 'defamation', 'hate', 'fake', 'non-hostile', 'defamation,hate', 'non-hostile', 'non-hostile', 'offensive', 'non-hostile', 'defamation', 'defamation', 'fake', 'non-hostile', 'non-hostile', 'non-hostile', 'non-hostile', 'fake', 'non-hostile', 'fake', 'non-hostile', 'fake', 'non-hostile', 'fake', 'hate', 'non-hostile', 'hate', 'fake', 'fake', 'offensive', 'non-hostile', 'fake', 'fake', 'non-hostile', 'non-hostile', 'non-hostile', 'non-hostile', 'non-hostile', 'non-hostile', 'non-hostile', 'fake', 'non-hostile', 'non-hostile', 'fake', 'non-hostile', 'defamation', 'non-hostile', 'fake', 'non-hostile', 'defamation', 'non-hostile', 'non-hostile', 'non-hostile', 'non-hostile', 'non-hostile', 'hate', 'hate', 'non-hostile', 'defamation,hate', 'non-hostile', 'fake', 'non-hostile', 'offensive', 'non-hostile', 'non-hostile', 'non-hostile', 'non-hostile', 'fake', 'fake', 'non-hostile', 'hate', 'non-hostile', 'fake', 'non-hostile', 'non-hostile', 'non-hostile', 'hate,offensive', 'hate', 'non-hostile', 'non-hostile', 'fake', 'non-hostile']\n"
          ],
          "name": "stdout"
        }
      ]
    },
    {
      "cell_type": "code",
      "metadata": {
        "id": "oaLaaqhNkUPd"
      },
      "source": [
        "# with open(\"/tmp/sarcasm.json\", 'r') as f:\n",
        "#     datastore = json.load(f)\n",
        " \n",
        "# sentences = []\n",
        "# labels = []\n",
        " \n",
        "# for item in datastore:\n",
        "#     sentences.append(item['headline'])\n",
        "#     labels.append(item['is_sarcastic'])\n",
        "sentences = train_data\n",
        "labels = train_labels"
      ],
      "execution_count": null,
      "outputs": []
    },
    {
      "cell_type": "code",
      "metadata": {
        "id": "S1sD-7v0kYWk"
      },
      "source": [
        "training_size = 1000\n",
        "training_sentences = sentences[0:training_size]\n",
        "testing_sentences = sentences[training_size:]\n",
        "training_labels = labels[0:training_size]\n",
        "testing_labels = labels[training_size:]"
      ],
      "execution_count": null,
      "outputs": []
    },
    {
      "cell_type": "code",
      "metadata": {
        "colab": {
          "base_uri": "https://localhost:8080/"
        },
        "id": "3u8UB0MCkZ5N",
        "outputId": "1a956655-1f9d-48db-ea0e-cc7b1a66a0c7"
      },
      "source": [
        "vocab_size = 10000\n",
        "embedding_dim = 100\n",
        "max_length = 500\n",
        "trunc_type='post'\n",
        "padding_type='post'\n",
        "oov_tok = \"<OOV>\"\n",
        "tokenizer = Tokenizer(num_words=vocab_size, oov_token=oov_tok)\n",
        "tokenizer.fit_on_texts(training_sentences)\n",
        "word_index = tokenizer.word_index\n",
        " \n",
        "training_sequences = tokenizer.texts_to_sequences(training_sentences)\n",
        "training_padded = pad_sequences(training_sequences, maxlen=max_length, padding=padding_type, truncating=trunc_type)\n",
        " \n",
        "testing_sequences = tokenizer.texts_to_sequences(testing_sentences)\n",
        "testing_padded = pad_sequences(testing_sequences, maxlen=max_length, padding=padding_type, truncating=trunc_type)\n",
        " \n",
        " \n",
        "token2 = Tokenizer()\n",
        "token2.fit_on_texts(training_labels)\n",
        " \n",
        "training_labels = token2.texts_to_sequences(training_labels)\n",
        "testing_labels = token2.texts_to_sequences(testing_labels)\n",
        "training_labels = pad_sequences(training_labels,2,padding='pre')\n",
        "testing_labels = pad_sequences(testing_labels,2,padding='pre')\n",
        "token2.word_index"
      ],
      "execution_count": null,
      "outputs": [
        {
          "output_type": "execute_result",
          "data": {
            "text/plain": [
              "{'defamation': 6, 'fake': 3, 'hate': 4, 'hostile': 2, 'non': 1, 'offensive': 5}"
            ]
          },
          "metadata": {
            "tags": []
          },
          "execution_count": 7
        }
      ]
    },
    {
      "cell_type": "code",
      "metadata": {
        "id": "8S-u5rFBl0ZJ"
      },
      "source": [
        "temp = tf.one_hot(training_labels,6)\n",
        "training_labels = tf.convert_to_tensor([x+y for x,y in temp])\n",
        "temp2 = tf.one_hot(testing_labels,6)\n",
        "testing_labels = tf.convert_to_tensor([x+y for x,y in temp2])"
      ],
      "execution_count": null,
      "outputs": []
    },
    {
      "cell_type": "code",
      "metadata": {
        "colab": {
          "base_uri": "https://localhost:8080/"
        },
        "id": "-m607dc-5DVA",
        "outputId": "9ac643f5-6e12-4efc-bf66-4b18e107e7b6"
      },
      "source": [
        "testing_labels.shape"
      ],
      "execution_count": null,
      "outputs": [
        {
          "output_type": "execute_result",
          "data": {
            "text/plain": [
              "TensorShape([4728, 6])"
            ]
          },
          "metadata": {
            "tags": []
          },
          "execution_count": 9
        }
      ]
    },
    {
      "cell_type": "code",
      "metadata": {
        "id": "GrAlWBKf99Ya"
      },
      "source": [
        "# Need this block to get it to work with TensorFlow 2.x\n",
        "import numpy as np\n",
        "training_padded = np.array(training_padded)\n",
        "training_labels = np.array(training_labels)\n",
        "testing_padded = np.array(testing_padded)\n",
        "testing_labels = np.array(testing_labels)"
      ],
      "execution_count": null,
      "outputs": []
    },
    {
      "cell_type": "code",
      "metadata": {
        "id": "FufaT4vlkiDE"
      },
      "source": [
        " \n",
        "training_size = 10\n",
        "model = tf.keras.Sequential([\n",
        "    tf.keras.layers.Embedding(vocab_size, embedding_dim, input_length=max_length),\n",
        "    tf.keras.layers.GlobalAveragePooling1D(),\n",
        "    tf.keras.layers.Dense(28, activation='relu'),\n",
        "    tf.keras.layers.Dense(6, activation='softmax')\n",
        "])\n",
        "\n",
        "model.compile(loss=tf.keras.losses.CategoricalCrossentropy(from_logits=True),optimizer='adam',metrics=['accuracy'])"
      ],
      "execution_count": null,
      "outputs": []
    },
    {
      "cell_type": "code",
      "metadata": {
        "colab": {
          "base_uri": "https://localhost:8080/"
        },
        "id": "2DTKQFf1kkyc",
        "outputId": "194510b0-b93e-4495-a591-a0b5733a3778"
      },
      "source": [
        "num_epochs = 100\n",
        "history = model.fit(training_padded, training_labels, epochs=num_epochs, validation_data=(testing_padded,testing_labels), verbose=2)\n",
        "history"
      ],
      "execution_count": null,
      "outputs": [
        {
          "output_type": "stream",
          "text": [
            "Epoch 1/100\n",
            "32/32 - 1s - loss: 3.4145 - accuracy: 0.5060 - val_loss: 3.3726 - val_accuracy: 0.5305\n",
            "Epoch 2/100\n",
            "32/32 - 1s - loss: 3.3435 - accuracy: 0.5420 - val_loss: 3.3018 - val_accuracy: 0.5305\n",
            "Epoch 3/100\n",
            "32/32 - 1s - loss: 3.2893 - accuracy: 0.5420 - val_loss: 3.2761 - val_accuracy: 0.5305\n",
            "Epoch 4/100\n",
            "32/32 - 1s - loss: 3.2733 - accuracy: 0.2420 - val_loss: 3.2704 - val_accuracy: 0.0000e+00\n",
            "Epoch 5/100\n",
            "32/32 - 1s - loss: 3.2720 - accuracy: 0.3200 - val_loss: 3.2703 - val_accuracy: 0.0000e+00\n",
            "Epoch 6/100\n",
            "32/32 - 1s - loss: 3.2716 - accuracy: 0.4630 - val_loss: 3.2703 - val_accuracy: 0.5157\n",
            "Epoch 7/100\n",
            "32/32 - 1s - loss: 3.2717 - accuracy: 0.4340 - val_loss: 3.2703 - val_accuracy: 0.5110\n",
            "Epoch 8/100\n",
            "32/32 - 1s - loss: 3.2717 - accuracy: 0.4410 - val_loss: 3.2704 - val_accuracy: 0.3335\n",
            "Epoch 9/100\n",
            "32/32 - 1s - loss: 3.2717 - accuracy: 0.4460 - val_loss: 3.2704 - val_accuracy: 0.5218\n",
            "Epoch 10/100\n",
            "32/32 - 1s - loss: 3.2717 - accuracy: 0.4830 - val_loss: 3.2704 - val_accuracy: 0.2229\n",
            "Epoch 11/100\n",
            "32/32 - 1s - loss: 3.2717 - accuracy: 0.3600 - val_loss: 3.2705 - val_accuracy: 0.5216\n",
            "Epoch 12/100\n",
            "32/32 - 1s - loss: 3.2717 - accuracy: 0.4700 - val_loss: 3.2705 - val_accuracy: 0.5027\n",
            "Epoch 13/100\n",
            "32/32 - 1s - loss: 3.2717 - accuracy: 0.4000 - val_loss: 3.2705 - val_accuracy: 0.4055\n",
            "Epoch 14/100\n",
            "32/32 - 1s - loss: 3.2717 - accuracy: 0.4080 - val_loss: 3.2705 - val_accuracy: 0.0066\n",
            "Epoch 15/100\n",
            "32/32 - 1s - loss: 3.2718 - accuracy: 0.3810 - val_loss: 3.2705 - val_accuracy: 0.3376\n",
            "Epoch 16/100\n",
            "32/32 - 1s - loss: 3.2718 - accuracy: 0.3650 - val_loss: 3.2705 - val_accuracy: 0.5192\n",
            "Epoch 17/100\n",
            "32/32 - 1s - loss: 3.2718 - accuracy: 0.3730 - val_loss: 3.2706 - val_accuracy: 0.5192\n",
            "Epoch 18/100\n",
            "32/32 - 1s - loss: 3.2718 - accuracy: 0.3060 - val_loss: 3.2706 - val_accuracy: 0.4378\n",
            "Epoch 19/100\n",
            "32/32 - 1s - loss: 3.2718 - accuracy: 0.3960 - val_loss: 3.2706 - val_accuracy: 0.2111\n",
            "Epoch 20/100\n",
            "32/32 - 1s - loss: 3.2718 - accuracy: 0.3910 - val_loss: 3.2706 - val_accuracy: 0.3968\n",
            "Epoch 21/100\n",
            "32/32 - 1s - loss: 3.2718 - accuracy: 0.3500 - val_loss: 3.2706 - val_accuracy: 0.3682\n",
            "Epoch 22/100\n",
            "32/32 - 1s - loss: 3.2718 - accuracy: 0.4160 - val_loss: 3.2706 - val_accuracy: 0.0266\n",
            "Epoch 23/100\n",
            "32/32 - 1s - loss: 3.2718 - accuracy: 0.3730 - val_loss: 3.2705 - val_accuracy: 0.3464\n",
            "Epoch 24/100\n",
            "32/32 - 1s - loss: 3.2718 - accuracy: 0.3860 - val_loss: 3.2705 - val_accuracy: 0.4012\n",
            "Epoch 25/100\n",
            "32/32 - 1s - loss: 3.2717 - accuracy: 0.3960 - val_loss: 3.2705 - val_accuracy: 0.2244\n",
            "Epoch 26/100\n",
            "32/32 - 1s - loss: 3.2717 - accuracy: 0.3520 - val_loss: 3.2705 - val_accuracy: 0.0594\n",
            "Epoch 27/100\n",
            "32/32 - 1s - loss: 3.2717 - accuracy: 0.3150 - val_loss: 3.2705 - val_accuracy: 0.1003\n",
            "Epoch 28/100\n",
            "32/32 - 1s - loss: 3.2717 - accuracy: 0.3840 - val_loss: 3.2704 - val_accuracy: 0.3374\n",
            "Epoch 29/100\n",
            "32/32 - 1s - loss: 3.2717 - accuracy: 0.4240 - val_loss: 3.2704 - val_accuracy: 0.3168\n",
            "Epoch 30/100\n",
            "32/32 - 1s - loss: 3.2716 - accuracy: 0.3990 - val_loss: 3.2704 - val_accuracy: 0.2320\n",
            "Epoch 31/100\n",
            "32/32 - 1s - loss: 3.2716 - accuracy: 0.3740 - val_loss: 3.2704 - val_accuracy: 0.4482\n",
            "Epoch 32/100\n",
            "32/32 - 1s - loss: 3.2715 - accuracy: 0.3900 - val_loss: 3.2703 - val_accuracy: 0.4186\n",
            "Epoch 33/100\n",
            "32/32 - 1s - loss: 3.2715 - accuracy: 0.3850 - val_loss: 3.2703 - val_accuracy: 0.0283\n",
            "Epoch 34/100\n",
            "32/32 - 1s - loss: 3.2714 - accuracy: 0.3420 - val_loss: 3.2701 - val_accuracy: 0.0000e+00\n",
            "Epoch 35/100\n",
            "32/32 - 1s - loss: 3.2713 - accuracy: 0.3620 - val_loss: 3.2700 - val_accuracy: 0.0000e+00\n",
            "Epoch 36/100\n",
            "32/32 - 1s - loss: 3.2711 - accuracy: 0.3380 - val_loss: 3.2697 - val_accuracy: 0.4901\n",
            "Epoch 37/100\n",
            "32/32 - 1s - loss: 3.2709 - accuracy: 0.3450 - val_loss: 3.2695 - val_accuracy: 0.4427\n",
            "Epoch 38/100\n",
            "32/32 - 1s - loss: 3.2704 - accuracy: 0.4510 - val_loss: 3.2688 - val_accuracy: 0.4973\n",
            "Epoch 39/100\n",
            "32/32 - 1s - loss: 3.2696 - accuracy: 0.3070 - val_loss: 3.2681 - val_accuracy: 0.4778\n",
            "Epoch 40/100\n",
            "32/32 - 1s - loss: 3.2677 - accuracy: 0.4190 - val_loss: 3.2649 - val_accuracy: 0.3837\n",
            "Epoch 41/100\n",
            "32/32 - 1s - loss: 3.2604 - accuracy: 0.4230 - val_loss: 3.2522 - val_accuracy: 0.5328\n",
            "Epoch 42/100\n",
            "32/32 - 1s - loss: 3.2341 - accuracy: 0.5300 - val_loss: 3.2196 - val_accuracy: 0.6288\n",
            "Epoch 43/100\n",
            "32/32 - 1s - loss: 3.1755 - accuracy: 0.7720 - val_loss: 3.1906 - val_accuracy: 0.6910\n",
            "Epoch 44/100\n",
            "32/32 - 1s - loss: 3.1099 - accuracy: 0.8410 - val_loss: 3.1232 - val_accuracy: 0.8054\n",
            "Epoch 45/100\n",
            "32/32 - 1s - loss: 3.0558 - accuracy: 0.8870 - val_loss: 3.1038 - val_accuracy: 0.7769\n",
            "Epoch 46/100\n",
            "32/32 - 1s - loss: 3.0229 - accuracy: 0.8670 - val_loss: 3.0809 - val_accuracy: 0.7479\n",
            "Epoch 47/100\n",
            "32/32 - 1s - loss: 3.0043 - accuracy: 0.8410 - val_loss: 3.0561 - val_accuracy: 0.6726\n",
            "Epoch 48/100\n",
            "32/32 - 1s - loss: 2.9941 - accuracy: 0.7420 - val_loss: 3.0465 - val_accuracy: 0.6428\n",
            "Epoch 49/100\n",
            "32/32 - 1s - loss: 2.9783 - accuracy: 0.7760 - val_loss: 3.0391 - val_accuracy: 0.5795\n",
            "Epoch 50/100\n",
            "32/32 - 1s - loss: 2.9711 - accuracy: 0.7150 - val_loss: 3.0331 - val_accuracy: 0.5503\n",
            "Epoch 51/100\n",
            "32/32 - 1s - loss: 2.9660 - accuracy: 0.7220 - val_loss: 3.0286 - val_accuracy: 0.5514\n",
            "Epoch 52/100\n",
            "32/32 - 1s - loss: 2.9624 - accuracy: 0.6770 - val_loss: 3.0306 - val_accuracy: 0.4958\n",
            "Epoch 53/100\n",
            "32/32 - 1s - loss: 2.9589 - accuracy: 0.6790 - val_loss: 3.0234 - val_accuracy: 0.5271\n",
            "Epoch 54/100\n",
            "32/32 - 1s - loss: 2.9560 - accuracy: 0.6870 - val_loss: 3.0203 - val_accuracy: 0.4831\n",
            "Epoch 55/100\n",
            "32/32 - 1s - loss: 2.9534 - accuracy: 0.6290 - val_loss: 3.0185 - val_accuracy: 0.5635\n",
            "Epoch 56/100\n",
            "32/32 - 1s - loss: 2.9520 - accuracy: 0.6970 - val_loss: 3.0211 - val_accuracy: 0.4607\n",
            "Epoch 57/100\n",
            "32/32 - 1s - loss: 2.9506 - accuracy: 0.6240 - val_loss: 3.0136 - val_accuracy: 0.4805\n",
            "Epoch 58/100\n",
            "32/32 - 1s - loss: 2.9499 - accuracy: 0.6640 - val_loss: 3.0164 - val_accuracy: 0.4742\n",
            "Epoch 59/100\n",
            "32/32 - 1s - loss: 2.9475 - accuracy: 0.6250 - val_loss: 3.0112 - val_accuracy: 0.5034\n",
            "Epoch 60/100\n",
            "32/32 - 1s - loss: 2.9462 - accuracy: 0.6400 - val_loss: 3.0106 - val_accuracy: 0.4865\n",
            "Epoch 61/100\n",
            "32/32 - 1s - loss: 2.9454 - accuracy: 0.6620 - val_loss: 3.0091 - val_accuracy: 0.4651\n",
            "Epoch 62/100\n",
            "32/32 - 1s - loss: 2.9449 - accuracy: 0.6300 - val_loss: 3.0083 - val_accuracy: 0.4803\n",
            "Epoch 63/100\n",
            "32/32 - 1s - loss: 2.9443 - accuracy: 0.6350 - val_loss: 3.0076 - val_accuracy: 0.4909\n",
            "Epoch 64/100\n",
            "32/32 - 1s - loss: 2.9437 - accuracy: 0.6510 - val_loss: 3.0087 - val_accuracy: 0.4615\n",
            "Epoch 65/100\n",
            "32/32 - 1s - loss: 2.9434 - accuracy: 0.6390 - val_loss: 3.0128 - val_accuracy: 0.4621\n",
            "Epoch 66/100\n",
            "32/32 - 1s - loss: 2.9430 - accuracy: 0.6490 - val_loss: 3.0070 - val_accuracy: 0.4907\n",
            "Epoch 67/100\n",
            "32/32 - 1s - loss: 2.9425 - accuracy: 0.6560 - val_loss: 3.0057 - val_accuracy: 0.4882\n",
            "Epoch 68/100\n",
            "32/32 - 1s - loss: 2.9420 - accuracy: 0.6520 - val_loss: 3.0072 - val_accuracy: 0.4820\n",
            "Epoch 69/100\n",
            "32/32 - 1s - loss: 2.9415 - accuracy: 0.6560 - val_loss: 3.0046 - val_accuracy: 0.4786\n",
            "Epoch 70/100\n",
            "32/32 - 1s - loss: 2.9412 - accuracy: 0.6630 - val_loss: 3.0042 - val_accuracy: 0.4643\n",
            "Epoch 71/100\n",
            "32/32 - 1s - loss: 2.9408 - accuracy: 0.6500 - val_loss: 3.0078 - val_accuracy: 0.5002\n",
            "Epoch 72/100\n",
            "32/32 - 1s - loss: 2.9406 - accuracy: 0.6580 - val_loss: 3.0035 - val_accuracy: 0.4968\n",
            "Epoch 73/100\n",
            "32/32 - 1s - loss: 2.9404 - accuracy: 0.6610 - val_loss: 3.0042 - val_accuracy: 0.4958\n",
            "Epoch 74/100\n",
            "32/32 - 1s - loss: 2.9403 - accuracy: 0.6680 - val_loss: 3.0037 - val_accuracy: 0.4630\n",
            "Epoch 75/100\n",
            "32/32 - 1s - loss: 2.9394 - accuracy: 0.6850 - val_loss: 3.0037 - val_accuracy: 0.4585\n",
            "Epoch 76/100\n",
            "32/32 - 1s - loss: 2.9392 - accuracy: 0.6710 - val_loss: 3.0062 - val_accuracy: 0.4791\n",
            "Epoch 77/100\n",
            "32/32 - 1s - loss: 2.9388 - accuracy: 0.6630 - val_loss: 3.0044 - val_accuracy: 0.5072\n",
            "Epoch 78/100\n",
            "32/32 - 1s - loss: 2.9389 - accuracy: 0.6860 - val_loss: 3.0020 - val_accuracy: 0.4856\n",
            "Epoch 79/100\n",
            "32/32 - 1s - loss: 2.9382 - accuracy: 0.6870 - val_loss: 3.0023 - val_accuracy: 0.4564\n",
            "Epoch 80/100\n",
            "32/32 - 1s - loss: 2.9383 - accuracy: 0.6700 - val_loss: 3.0016 - val_accuracy: 0.4596\n",
            "Epoch 81/100\n",
            "32/32 - 1s - loss: 2.9377 - accuracy: 0.6830 - val_loss: 3.0015 - val_accuracy: 0.4545\n",
            "Epoch 82/100\n",
            "32/32 - 1s - loss: 2.9372 - accuracy: 0.6730 - val_loss: 3.0019 - val_accuracy: 0.4640\n",
            "Epoch 83/100\n",
            "32/32 - 1s - loss: 2.9372 - accuracy: 0.6810 - val_loss: 3.0047 - val_accuracy: 0.4816\n",
            "Epoch 84/100\n",
            "32/32 - 1s - loss: 2.9372 - accuracy: 0.6710 - val_loss: 3.0017 - val_accuracy: 0.4941\n",
            "Epoch 85/100\n",
            "32/32 - 1s - loss: 2.9370 - accuracy: 0.6780 - val_loss: 3.0047 - val_accuracy: 0.4928\n",
            "Epoch 86/100\n",
            "32/32 - 1s - loss: 2.9367 - accuracy: 0.6810 - val_loss: 3.0006 - val_accuracy: 0.4875\n",
            "Epoch 87/100\n",
            "32/32 - 1s - loss: 2.9365 - accuracy: 0.6850 - val_loss: 3.0016 - val_accuracy: 0.5049\n",
            "Epoch 88/100\n",
            "32/32 - 1s - loss: 2.9364 - accuracy: 0.6740 - val_loss: 3.0004 - val_accuracy: 0.4960\n",
            "Epoch 89/100\n",
            "32/32 - 1s - loss: 2.9363 - accuracy: 0.6910 - val_loss: 3.0005 - val_accuracy: 0.4909\n",
            "Epoch 90/100\n",
            "32/32 - 1s - loss: 2.9361 - accuracy: 0.6690 - val_loss: 3.0004 - val_accuracy: 0.4970\n",
            "Epoch 91/100\n",
            "32/32 - 1s - loss: 2.9360 - accuracy: 0.6770 - val_loss: 3.0001 - val_accuracy: 0.4960\n",
            "Epoch 92/100\n",
            "32/32 - 1s - loss: 2.9359 - accuracy: 0.6770 - val_loss: 3.0001 - val_accuracy: 0.4702\n",
            "Epoch 93/100\n",
            "32/32 - 1s - loss: 2.9359 - accuracy: 0.6850 - val_loss: 3.0001 - val_accuracy: 0.4440\n",
            "Epoch 94/100\n",
            "32/32 - 1s - loss: 2.9358 - accuracy: 0.6670 - val_loss: 2.9998 - val_accuracy: 0.4966\n",
            "Epoch 95/100\n",
            "32/32 - 1s - loss: 2.9356 - accuracy: 0.7160 - val_loss: 2.9997 - val_accuracy: 0.4704\n",
            "Epoch 96/100\n",
            "32/32 - 1s - loss: 2.9355 - accuracy: 0.6760 - val_loss: 2.9998 - val_accuracy: 0.4909\n",
            "Epoch 97/100\n",
            "32/32 - 1s - loss: 2.9355 - accuracy: 0.6810 - val_loss: 2.9996 - val_accuracy: 0.4651\n",
            "Epoch 98/100\n",
            "32/32 - 1s - loss: 2.9354 - accuracy: 0.6740 - val_loss: 2.9994 - val_accuracy: 0.4968\n",
            "Epoch 99/100\n",
            "32/32 - 1s - loss: 2.9353 - accuracy: 0.6750 - val_loss: 2.9994 - val_accuracy: 0.4668\n",
            "Epoch 100/100\n",
            "32/32 - 1s - loss: 2.9353 - accuracy: 0.6810 - val_loss: 2.9994 - val_accuracy: 0.4742\n"
          ],
          "name": "stdout"
        },
        {
          "output_type": "execute_result",
          "data": {
            "text/plain": [
              "<tensorflow.python.keras.callbacks.History at 0x7fa0003c3748>"
            ]
          },
          "metadata": {
            "tags": []
          },
          "execution_count": 12
        }
      ]
    },
    {
      "cell_type": "code",
      "metadata": {
        "colab": {
          "base_uri": "https://localhost:8080/"
        },
        "id": "mFK8aDj5w3GD",
        "outputId": "6694843e-6b11-4a4e-9177-8914a708f30d"
      },
      "source": [
        "history.history"
      ],
      "execution_count": null,
      "outputs": [
        {
          "output_type": "execute_result",
          "data": {
            "text/plain": [
              "{'accuracy': [0.5059999823570251,\n",
              "  0.5419999957084656,\n",
              "  0.5419999957084656,\n",
              "  0.24199999868869781,\n",
              "  0.3199999928474426,\n",
              "  0.46299999952316284,\n",
              "  0.4339999854564667,\n",
              "  0.4410000145435333,\n",
              "  0.44600000977516174,\n",
              "  0.4830000102519989,\n",
              "  0.36000001430511475,\n",
              "  0.4699999988079071,\n",
              "  0.4000000059604645,\n",
              "  0.40799999237060547,\n",
              "  0.38100001215934753,\n",
              "  0.36500000953674316,\n",
              "  0.37299999594688416,\n",
              "  0.3059999942779541,\n",
              "  0.3959999978542328,\n",
              "  0.39100000262260437,\n",
              "  0.3499999940395355,\n",
              "  0.41600000858306885,\n",
              "  0.37299999594688416,\n",
              "  0.38600000739097595,\n",
              "  0.3959999978542328,\n",
              "  0.35199999809265137,\n",
              "  0.3149999976158142,\n",
              "  0.3840000033378601,\n",
              "  0.42399999499320984,\n",
              "  0.39899998903274536,\n",
              "  0.37400001287460327,\n",
              "  0.38999998569488525,\n",
              "  0.38499999046325684,\n",
              "  0.34200000762939453,\n",
              "  0.3619999885559082,\n",
              "  0.33799999952316284,\n",
              "  0.3449999988079071,\n",
              "  0.45100000500679016,\n",
              "  0.3070000112056732,\n",
              "  0.4189999997615814,\n",
              "  0.4230000078678131,\n",
              "  0.5299999713897705,\n",
              "  0.7720000147819519,\n",
              "  0.8410000205039978,\n",
              "  0.8870000243186951,\n",
              "  0.8669999837875366,\n",
              "  0.8410000205039978,\n",
              "  0.7419999837875366,\n",
              "  0.7760000228881836,\n",
              "  0.7149999737739563,\n",
              "  0.722000002861023,\n",
              "  0.6769999861717224,\n",
              "  0.6790000200271606,\n",
              "  0.6869999766349792,\n",
              "  0.6290000081062317,\n",
              "  0.6970000267028809,\n",
              "  0.6240000128746033,\n",
              "  0.6639999747276306,\n",
              "  0.625,\n",
              "  0.6399999856948853,\n",
              "  0.6620000004768372,\n",
              "  0.6299999952316284,\n",
              "  0.6349999904632568,\n",
              "  0.6510000228881836,\n",
              "  0.6389999985694885,\n",
              "  0.6489999890327454,\n",
              "  0.656000018119812,\n",
              "  0.6520000100135803,\n",
              "  0.656000018119812,\n",
              "  0.6629999876022339,\n",
              "  0.6499999761581421,\n",
              "  0.6579999923706055,\n",
              "  0.6610000133514404,\n",
              "  0.6679999828338623,\n",
              "  0.6850000023841858,\n",
              "  0.6710000038146973,\n",
              "  0.6629999876022339,\n",
              "  0.6859999895095825,\n",
              "  0.6869999766349792,\n",
              "  0.6700000166893005,\n",
              "  0.6830000281333923,\n",
              "  0.6729999780654907,\n",
              "  0.6809999942779541,\n",
              "  0.6710000038146973,\n",
              "  0.6779999732971191,\n",
              "  0.6809999942779541,\n",
              "  0.6850000023841858,\n",
              "  0.6740000247955322,\n",
              "  0.6909999847412109,\n",
              "  0.6690000295639038,\n",
              "  0.6769999861717224,\n",
              "  0.6769999861717224,\n",
              "  0.6850000023841858,\n",
              "  0.6669999957084656,\n",
              "  0.7160000205039978,\n",
              "  0.6759999990463257,\n",
              "  0.6809999942779541,\n",
              "  0.6740000247955322,\n",
              "  0.675000011920929,\n",
              "  0.6809999942779541],\n",
              " 'loss': [3.4145379066467285,\n",
              "  3.343526601791382,\n",
              "  3.289280414581299,\n",
              "  3.273308277130127,\n",
              "  3.2719674110412598,\n",
              "  3.2716126441955566,\n",
              "  3.271712064743042,\n",
              "  3.2717092037200928,\n",
              "  3.2716574668884277,\n",
              "  3.271691083908081,\n",
              "  3.2717223167419434,\n",
              "  3.2717185020446777,\n",
              "  3.2717435359954834,\n",
              "  3.2717483043670654,\n",
              "  3.271754741668701,\n",
              "  3.271768808364868,\n",
              "  3.271775484085083,\n",
              "  3.2717649936676025,\n",
              "  3.2717952728271484,\n",
              "  3.271782398223877,\n",
              "  3.2717812061309814,\n",
              "  3.271775484085083,\n",
              "  3.2717628479003906,\n",
              "  3.271758556365967,\n",
              "  3.2717368602752686,\n",
              "  3.2717151641845703,\n",
              "  3.271690845489502,\n",
              "  3.2716567516326904,\n",
              "  3.271651268005371,\n",
              "  3.271629810333252,\n",
              "  3.271592855453491,\n",
              "  3.2715184688568115,\n",
              "  3.2714951038360596,\n",
              "  3.2714200019836426,\n",
              "  3.2712883949279785,\n",
              "  3.271054267883301,\n",
              "  3.2708561420440674,\n",
              "  3.2703664302825928,\n",
              "  3.2696373462677,\n",
              "  3.2677342891693115,\n",
              "  3.260396957397461,\n",
              "  3.234081268310547,\n",
              "  3.1754963397979736,\n",
              "  3.109940767288208,\n",
              "  3.05576753616333,\n",
              "  3.0228757858276367,\n",
              "  3.0043253898620605,\n",
              "  2.994072675704956,\n",
              "  2.97827410697937,\n",
              "  2.9711475372314453,\n",
              "  2.9659500122070312,\n",
              "  2.9623589515686035,\n",
              "  2.9588797092437744,\n",
              "  2.9559779167175293,\n",
              "  2.9533514976501465,\n",
              "  2.9519543647766113,\n",
              "  2.9506146907806396,\n",
              "  2.949850559234619,\n",
              "  2.94752836227417,\n",
              "  2.9461891651153564,\n",
              "  2.945402145385742,\n",
              "  2.944864511489868,\n",
              "  2.9443180561065674,\n",
              "  2.943743944168091,\n",
              "  2.9433536529541016,\n",
              "  2.942978620529175,\n",
              "  2.9425241947174072,\n",
              "  2.941990613937378,\n",
              "  2.9414713382720947,\n",
              "  2.941171884536743,\n",
              "  2.9408018589019775,\n",
              "  2.940594434738159,\n",
              "  2.940394639968872,\n",
              "  2.940333604812622,\n",
              "  2.9393770694732666,\n",
              "  2.939161777496338,\n",
              "  2.9387905597686768,\n",
              "  2.9389007091522217,\n",
              "  2.938246250152588,\n",
              "  2.938337564468384,\n",
              "  2.9377150535583496,\n",
              "  2.937197685241699,\n",
              "  2.9371724128723145,\n",
              "  2.9372053146362305,\n",
              "  2.936959981918335,\n",
              "  2.9367358684539795,\n",
              "  2.936466932296753,\n",
              "  2.9364113807678223,\n",
              "  2.9362592697143555,\n",
              "  2.936126470565796,\n",
              "  2.936039686203003,\n",
              "  2.9358670711517334,\n",
              "  2.9358668327331543,\n",
              "  2.9358112812042236,\n",
              "  2.935622215270996,\n",
              "  2.9355337619781494,\n",
              "  2.9354615211486816,\n",
              "  2.935389757156372,\n",
              "  2.9353294372558594,\n",
              "  2.9352872371673584],\n",
              " 'val_accuracy': [0.5304568409919739,\n",
              "  0.5304568409919739,\n",
              "  0.5304568409919739,\n",
              "  0.0,\n",
              "  0.0,\n",
              "  0.5156514644622803,\n",
              "  0.5109983086585999,\n",
              "  0.33354485034942627,\n",
              "  0.5217850804328918,\n",
              "  0.2229272425174713,\n",
              "  0.5215736031532288,\n",
              "  0.5027495622634888,\n",
              "  0.4054568409919739,\n",
              "  0.00655668368563056,\n",
              "  0.3375634551048279,\n",
              "  0.5192470550537109,\n",
              "  0.5192470550537109,\n",
              "  0.437817245721817,\n",
              "  0.21108290553092957,\n",
              "  0.39678511023521423,\n",
              "  0.36823180317878723,\n",
              "  0.026649747043848038,\n",
              "  0.346446692943573,\n",
              "  0.4012267291545868,\n",
              "  0.22440777719020844,\n",
              "  0.059433165937662125,\n",
              "  0.10025380551815033,\n",
              "  0.3373519480228424,\n",
              "  0.316835880279541,\n",
              "  0.2320220023393631,\n",
              "  0.44818106293678284,\n",
              "  0.41857022047042847,\n",
              "  0.02834179438650608,\n",
              "  0.0,\n",
              "  0.0,\n",
              "  0.4900592267513275,\n",
              "  0.4426819086074829,\n",
              "  0.49725043773651123,\n",
              "  0.4777918756008148,\n",
              "  0.38367173075675964,\n",
              "  0.5327833890914917,\n",
              "  0.6288071274757385,\n",
              "  0.6909898519515991,\n",
              "  0.8054145574569702,\n",
              "  0.7768612504005432,\n",
              "  0.7478849291801453,\n",
              "  0.6725888252258301,\n",
              "  0.6427664756774902,\n",
              "  0.5795262455940247,\n",
              "  0.5503383874893188,\n",
              "  0.5513959527015686,\n",
              "  0.4957698881626129,\n",
              "  0.5270727872848511,\n",
              "  0.4830795228481293,\n",
              "  0.5634517669677734,\n",
              "  0.4606598913669586,\n",
              "  0.480541467666626,\n",
              "  0.47419628500938416,\n",
              "  0.5033841133117676,\n",
              "  0.48646360635757446,\n",
              "  0.4651015102863312,\n",
              "  0.4803299605846405,\n",
              "  0.4909052550792694,\n",
              "  0.4615059196949005,\n",
              "  0.46214044094085693,\n",
              "  0.49069374799728394,\n",
              "  0.48815566301345825,\n",
              "  0.4820219874382019,\n",
              "  0.4786379039287567,\n",
              "  0.46425551176071167,\n",
              "  0.5002114772796631,\n",
              "  0.4968274235725403,\n",
              "  0.4957698881626129,\n",
              "  0.46298646926879883,\n",
              "  0.45854485034942627,\n",
              "  0.47906091809272766,\n",
              "  0.5071911811828613,\n",
              "  0.48561760783195496,\n",
              "  0.45642977952957153,\n",
              "  0.45960235595703125,\n",
              "  0.45452621579170227,\n",
              "  0.4640440046787262,\n",
              "  0.48159897327423096,\n",
              "  0.4940778315067291,\n",
              "  0.4928087890148163,\n",
              "  0.48752114176750183,\n",
              "  0.5048646330833435,\n",
              "  0.4959813952445984,\n",
              "  0.4909052550792694,\n",
              "  0.49703893065452576,\n",
              "  0.4959813952445984,\n",
              "  0.47017765045166016,\n",
              "  0.44395092129707336,\n",
              "  0.4966159164905548,\n",
              "  0.47038915753364563,\n",
              "  0.4909052550792694,\n",
              "  0.4651015102863312,\n",
              "  0.4968274235725403,\n",
              "  0.46679356694221497,\n",
              "  0.47419628500938416],\n",
              " 'val_loss': [3.372645854949951,\n",
              "  3.3017756938934326,\n",
              "  3.2760653495788574,\n",
              "  3.27040958404541,\n",
              "  3.2702648639678955,\n",
              "  3.2702696323394775,\n",
              "  3.270341634750366,\n",
              "  3.2703773975372314,\n",
              "  3.270400047302246,\n",
              "  3.2704427242279053,\n",
              "  3.2704710960388184,\n",
              "  3.2704918384552,\n",
              "  3.270514965057373,\n",
              "  3.270528554916382,\n",
              "  3.2705392837524414,\n",
              "  3.270542860031128,\n",
              "  3.270555019378662,\n",
              "  3.270555019378662,\n",
              "  3.270578622817993,\n",
              "  3.270564317703247,\n",
              "  3.270566463470459,\n",
              "  3.270557165145874,\n",
              "  3.2705445289611816,\n",
              "  3.270535469055176,\n",
              "  3.2705190181732178,\n",
              "  3.2704930305480957,\n",
              "  3.27046799659729,\n",
              "  3.270434617996216,\n",
              "  3.2704319953918457,\n",
              "  3.2704057693481445,\n",
              "  3.270350217819214,\n",
              "  3.2702767848968506,\n",
              "  3.270270586013794,\n",
              "  3.2701416015625,\n",
              "  3.2700250148773193,\n",
              "  3.2697324752807617,\n",
              "  3.2695157527923584,\n",
              "  3.2688450813293457,\n",
              "  3.2680788040161133,\n",
              "  3.26493501663208,\n",
              "  3.252227306365967,\n",
              "  3.21962308883667,\n",
              "  3.190587282180786,\n",
              "  3.1231982707977295,\n",
              "  3.1038193702697754,\n",
              "  3.08087158203125,\n",
              "  3.056108236312866,\n",
              "  3.0465073585510254,\n",
              "  3.0391480922698975,\n",
              "  3.033137559890747,\n",
              "  3.0286238193511963,\n",
              "  3.030627489089966,\n",
              "  3.023426055908203,\n",
              "  3.0202524662017822,\n",
              "  3.0184526443481445,\n",
              "  3.021111011505127,\n",
              "  3.013568639755249,\n",
              "  3.016364574432373,\n",
              "  3.0111501216888428,\n",
              "  3.0105557441711426,\n",
              "  3.0090935230255127,\n",
              "  3.008265972137451,\n",
              "  3.007599353790283,\n",
              "  3.008716583251953,\n",
              "  3.012803077697754,\n",
              "  3.006951093673706,\n",
              "  3.005739688873291,\n",
              "  3.0072290897369385,\n",
              "  3.0045835971832275,\n",
              "  3.0041675567626953,\n",
              "  3.007775068283081,\n",
              "  3.0035440921783447,\n",
              "  3.004190683364868,\n",
              "  3.0037174224853516,\n",
              "  3.0037424564361572,\n",
              "  3.006178379058838,\n",
              "  3.0044002532958984,\n",
              "  3.0019946098327637,\n",
              "  3.002262592315674,\n",
              "  3.001573085784912,\n",
              "  3.0015108585357666,\n",
              "  3.0019452571868896,\n",
              "  3.0047214031219482,\n",
              "  3.0017199516296387,\n",
              "  3.00471830368042,\n",
              "  3.0005829334259033,\n",
              "  3.0016496181488037,\n",
              "  3.000419855117798,\n",
              "  3.0004513263702393,\n",
              "  3.000389575958252,\n",
              "  3.00006103515625,\n",
              "  3.000087261199951,\n",
              "  3.000127077102661,\n",
              "  2.9997599124908447,\n",
              "  2.99967622756958,\n",
              "  2.9997541904449463,\n",
              "  2.9995646476745605,\n",
              "  2.999433755874634,\n",
              "  2.9993672370910645,\n",
              "  2.999406576156616]}"
            ]
          },
          "metadata": {
            "tags": []
          },
          "execution_count": 13
        }
      ]
    },
    {
      "cell_type": "code",
      "metadata": {
        "colab": {
          "base_uri": "https://localhost:8080/",
          "height": 541
        },
        "id": "2HYfBKXjkmU8",
        "outputId": "efbdb5a4-5561-41f5-c1f2-88afb9a8ea69"
      },
      "source": [
        "import matplotlib.pyplot as plt\n",
        " \n",
        " \n",
        "def plot_graphs(history, string):\n",
        "  plt.plot(history.history[string])\n",
        "  # plt.plot(history.history['val_'+string])\n",
        "  plt.xlabel(\"Epochs\")\n",
        "  plt.ylabel(string)\n",
        "  plt.legend([string, 'val_'+string])\n",
        "  plt.show()\n",
        "  \n",
        "plot_graphs(history, \"accuracy\")\n",
        "plot_graphs(history, \"loss\")"
      ],
      "execution_count": null,
      "outputs": [
        {
          "output_type": "display_data",
          "data": {
            "image/png": "[encoded data removed]",
            "text/plain": [
              "<Figure size 432x288 with 1 Axes>"
            ]
          },
          "metadata": {
            "tags": [],
            "needs_background": "light"
          }
        },
        {
          "output_type": "display_data",
          "data": {
            "image/png": "[encoded data removed]",
            "text/plain": [
              "<Figure size 432x288 with 1 Axes>"
            ]
          },
          "metadata": {
            "tags": [],
            "needs_background": "light"
          }
        }
      ]
    },
    {
      "cell_type": "code",
      "metadata": {
        "colab": {
          "base_uri": "https://localhost:8080/"
        },
        "id": "7SBdAZAenvzL",
        "outputId": "5a4ba73f-1717-4a58-ae4e-c89e5103d639"
      },
      "source": [
        "reverse_word_index = dict([(value, key) for (key, value) in word_index.items()])\n",
        " \n",
        "def decode_sentence(text):\n",
        "    return ' '.join([reverse_word_index.get(i, '?') for i in text])\n",
        " \n",
        "print(decode_sentence(training_padded[0]))\n",
        "print(training_sentences[0])\n",
        "print(labels[0])"
      ],
      "execution_count": null,
      "outputs": [
        {
          "output_type": "stream",
          "text": [
            "मेरे देश के हिन्दु बहुत निराले है। कुछ तो पक्के राम भक्त है और कुछ बाबर के साले है 🙏 जय श्री राम 🙏 ? ? ? ? ? ? ? ? ? ? ? ? ? ? ? ? ? ? ? ? ? ? ? ? ? ? ? ? ? ? ? ? ? ? ? ? ? ? ? ? ? ? ? ? ? ? ? ? ? ? ? ? ? ? ? ? ? ? ? ? ? ? ? ? ? ? ? ? ? ? ? ? ? ? ? ? ? ? ? ? ? ? ? ? ? ? ? ? ? ? ? ? ? ? ? ? ? ? ? ? ? ? ? ? ? ? ? ? ? ? ? ? ? ? ? ? ? ? ? ? ? ? ? ? ? ? ? ? ? ? ? ? ? ? ? ? ? ? ? ? ? ? ? ? ? ? ? ? ? ? ? ? ? ? ? ? ? ? ? ? ? ? ? ? ? ? ? ? ? ? ? ? ? ? ? ? ? ? ? ? ? ? ? ? ? ? ? ? ? ? ? ? ? ? ? ? ? ? ? ? ? ? ? ? ? ? ? ? ? ? ? ? ? ? ? ? ? ? ? ? ? ? ? ? ? ? ? ? ? ? ? ? ? ? ? ? ? ? ? ? ? ? ? ? ? ? ? ? ? ? ? ? ? ? ? ? ? ? ? ? ? ? ? ? ? ? ? ? ? ? ? ? ? ? ? ? ? ? ? ? ? ? ? ? ? ? ? ? ? ? ? ? ? ? ? ? ? ? ? ? ? ? ? ? ? ? ? ? ? ? ? ? ? ? ? ? ? ? ? ? ? ? ? ? ? ? ? ? ? ? ? ? ? ? ? ? ? ? ? ? ? ? ? ? ? ? ? ? ? ? ? ? ? ? ? ? ? ? ? ? ? ? ? ? ? ? ? ? ? ? ? ? ? ? ? ? ? ? ? ? ? ? ? ? ? ? ? ? ? ? ? ? ? ? ? ? ? ? ? ? ? ? ? ? ? ? ? ? ? ? ? ? ? ? ? ? ? ? ? ? ? ? ? ? ? ? ? ? ? ? ? ? ? ? ? ? ? ? ? ? ? ? ? ? ? ? ? ? ? ? ? ? ? ? ? ? ? ? ? ? ? ? ? ? ? ? ? ? ? ? ? ? ? ? ? ?\n",
            "मेरे देश के हिन्दु बहुत निराले है। कुछ तो पक्के राम भक्त है और कुछ बाबर के साले है \n",
            "\n",
            "🙏 जय श्री राम 🙏\n",
            "hate,offensive\n"
          ],
          "name": "stdout"
        }
      ]
    },
    {
      "cell_type": "code",
      "metadata": {
        "colab": {
          "base_uri": "https://localhost:8080/"
        },
        "id": "c9MqihtEkzQ9",
        "outputId": "dac13d0d-f010-4def-b433-9f987cd470db"
      },
      "source": [
        "from sklearn.metrics import f1_score\n",
        "x = (history.model.predict(testing_padded) > 0.1).astype(\"int64\")\n",
        "f1_score(x,testing_labels,average='weighted')\n",
        "# print(testing_labels)\n",
        "# print(x)"
      ],
      "execution_count": null,
      "outputs": [
        {
          "output_type": "execute_result",
          "data": {
            "text/plain": [
              "0.895685911514642"
            ]
          },
          "metadata": {
            "tags": []
          },
          "execution_count": 16
        }
      ]
    },
    {
      "cell_type": "code",
      "metadata": {
        "colab": {
          "base_uri": "https://localhost:8080/"
        },
        "id": "CbA5JMONAr9n",
        "outputId": "ce7c3a99-a101-468e-abec-5be2332eaadc"
      },
      "source": [
        "e = model.layers[0]\n",
        "weights = e.get_weights()[0]\n",
        "print(weights.shape) # shape: (vocab_size, embedding_dim)"
      ],
      "execution_count": null,
      "outputs": [
        {
          "output_type": "stream",
          "text": [
            "(10000, 100)\n"
          ],
          "name": "stdout"
        }
      ]
    }
  ]
}